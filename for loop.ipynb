{
 "cells": [
  {
   "cell_type": "code",
   "execution_count": 2,
   "id": "45fb0bd7",
   "metadata": {},
   "outputs": [],
   "source": [
    "import time"
   ]
  },
  {
   "cell_type": "code",
   "execution_count": 8,
   "id": "5edc3df6",
   "metadata": {},
   "outputs": [
    {
     "name": "stdout",
     "output_type": "stream",
     "text": [
      "H e l l o   W o r l d "
     ]
    }
   ],
   "source": [
    "name = 'Hello World'\n",
    "\n",
    "for i in name:\n",
    "    time.sleep(1)\n",
    "    print(i,end = ' ')"
   ]
  },
  {
   "cell_type": "markdown",
   "id": "6db9f2dd",
   "metadata": {},
   "source": [
    "### range data type"
   ]
  },
  {
   "cell_type": "code",
   "execution_count": 11,
   "id": "80dbb18f",
   "metadata": {},
   "outputs": [
    {
     "data": {
      "text/plain": [
       "[1, 2, 3, 4, 5, 6, 7, 8, 9, 10]"
      ]
     },
     "execution_count": 11,
     "metadata": {},
     "output_type": "execute_result"
    }
   ],
   "source": [
    "list(range(1,11,1))"
   ]
  },
  {
   "cell_type": "code",
   "execution_count": 14,
   "id": "73188616",
   "metadata": {},
   "outputs": [
    {
     "data": {
      "text/plain": [
       "(0, 1, 2, 3, 4, 5, 6, 7, 8, 9, 10)"
      ]
     },
     "execution_count": 14,
     "metadata": {},
     "output_type": "execute_result"
    }
   ],
   "source": [
    "tuple(range(11))"
   ]
  },
  {
   "cell_type": "code",
   "execution_count": 15,
   "id": "1f340649",
   "metadata": {},
   "outputs": [
    {
     "data": {
      "text/plain": [
       "{0, 2, 4, 6, 8, 10}"
      ]
     },
     "execution_count": 15,
     "metadata": {},
     "output_type": "execute_result"
    }
   ],
   "source": [
    "set(range(0,11,2))"
   ]
  },
  {
   "cell_type": "code",
   "execution_count": 16,
   "id": "36b4e44a",
   "metadata": {},
   "outputs": [
    {
     "data": {
      "text/plain": [
       "[0, 3, 6, 9, 12, 15, 18, 21, 24, 27, 30]"
      ]
     },
     "execution_count": 16,
     "metadata": {},
     "output_type": "execute_result"
    }
   ],
   "source": [
    "list(range(0,31,3))   #the values 0 to 30 which are mutiple of 3"
   ]
  },
  {
   "cell_type": "code",
   "execution_count": 21,
   "id": "f6c36607",
   "metadata": {},
   "outputs": [
    {
     "name": "stdout",
     "output_type": "stream",
     "text": [
      "1\n",
      "2\n",
      "3\n",
      "4\n",
      "5\n",
      "6\n",
      "7\n",
      "8\n",
      "9\n",
      "10\n",
      "11\n",
      "12\n",
      "13\n",
      "14\n",
      "15\n"
     ]
    }
   ],
   "source": [
    "val = list(range(1,16))\n",
    "\n",
    "for i in val:\n",
    "    print(i)"
   ]
  },
  {
   "cell_type": "code",
   "execution_count": 25,
   "id": "1ae37be1",
   "metadata": {},
   "outputs": [
    {
     "name": "stdout",
     "output_type": "stream",
     "text": [
      "11\n",
      "12\n",
      "13\n",
      "14\n",
      "15\n",
      "16\n",
      "17\n",
      "18\n",
      "19\n",
      "20\n",
      "21\n",
      "22\n",
      "23\n",
      "24\n",
      "25\n"
     ]
    }
   ],
   "source": [
    "for i in range(1,16):\n",
    "    print(i+10)\n",
    "    "
   ]
  },
  {
   "cell_type": "code",
   "execution_count": 26,
   "id": "4685154a",
   "metadata": {},
   "outputs": [
    {
     "name": "stdout",
     "output_type": "stream",
     "text": [
      "5\n",
      "2\n",
      "3\n",
      "10\n",
      "5\n"
     ]
    }
   ],
   "source": [
    "names = ['Hello','Hi','Bye','Innomatics','world']\n",
    "\n",
    "for i in names:\n",
    "    print(len(i))"
   ]
  },
  {
   "cell_type": "code",
   "execution_count": 27,
   "id": "b28eba9c",
   "metadata": {},
   "outputs": [
    {
     "name": "stdout",
     "output_type": "stream",
     "text": [
      "not greater than 5\n",
      "not greater than 5\n",
      "not greater than 5\n",
      "not greater than 5\n",
      "not greater than 5\n",
      "greater than 5\n",
      "greater than 5\n",
      "greater than 5\n",
      "greater than 5\n"
     ]
    }
   ],
   "source": [
    "for i in range(1,10):\n",
    "    \n",
    "    if i > 5:\n",
    "        print('greater than 5')\n",
    "    else:\n",
    "        print('not greater than 5')"
   ]
  },
  {
   "cell_type": "markdown",
   "id": "5cd646a3",
   "metadata": {},
   "source": [
    "1. Print all the even numbers from 50 to 100"
   ]
  },
  {
   "cell_type": "code",
   "execution_count": 29,
   "id": "568d417b",
   "metadata": {},
   "outputs": [
    {
     "name": "stdout",
     "output_type": "stream",
     "text": [
      "50\n",
      "52\n",
      "54\n",
      "56\n",
      "58\n",
      "60\n",
      "62\n",
      "64\n",
      "66\n",
      "68\n",
      "70\n",
      "72\n",
      "74\n",
      "76\n",
      "78\n",
      "80\n",
      "82\n",
      "84\n",
      "86\n",
      "88\n",
      "90\n",
      "92\n",
      "94\n",
      "96\n",
      "98\n",
      "100\n"
     ]
    }
   ],
   "source": [
    "for i in range(50,101):\n",
    "    if i%2 == 0:\n",
    "        print(i)"
   ]
  },
  {
   "cell_type": "code",
   "execution_count": 31,
   "id": "fd314c16",
   "metadata": {},
   "outputs": [
    {
     "name": "stdout",
     "output_type": "stream",
     "text": [
      "50\n",
      "52\n",
      "54\n",
      "56\n",
      "58\n",
      "60\n",
      "62\n",
      "64\n",
      "66\n",
      "68\n",
      "70\n",
      "72\n",
      "74\n",
      "76\n",
      "78\n",
      "80\n",
      "82\n",
      "84\n",
      "86\n",
      "88\n",
      "90\n",
      "92\n",
      "94\n",
      "96\n",
      "98\n",
      "100\n"
     ]
    }
   ],
   "source": [
    "for i in range(50,101,2):\n",
    "    print(i)"
   ]
  },
  {
   "cell_type": "markdown",
   "id": "2486003d",
   "metadata": {},
   "source": [
    "1.Print the values from -20 to 0"
   ]
  },
  {
   "cell_type": "code",
   "execution_count": 33,
   "id": "75dffa08",
   "metadata": {},
   "outputs": [
    {
     "name": "stdout",
     "output_type": "stream",
     "text": [
      "-20\n",
      "-19\n",
      "-18\n",
      "-17\n",
      "-16\n",
      "-15\n",
      "-14\n",
      "-13\n",
      "-12\n",
      "-11\n",
      "-10\n"
     ]
    }
   ],
   "source": [
    "for i in range(-20,-9,1):\n",
    "    print(i)"
   ]
  },
  {
   "cell_type": "code",
   "execution_count": 34,
   "id": "40f64a60",
   "metadata": {},
   "outputs": [
    {
     "name": "stdout",
     "output_type": "stream",
     "text": [
      "10\n",
      "9\n",
      "8\n",
      "7\n",
      "6\n",
      "5\n",
      "4\n",
      "3\n",
      "2\n",
      "1\n"
     ]
    }
   ],
   "source": [
    "#genearate the values from 10 to 1\n",
    "for i in range(10,0,-1):\n",
    "    print(i)"
   ]
  },
  {
   "cell_type": "markdown",
   "id": "699870f4",
   "metadata": {},
   "source": [
    "separate the even values and odd values from 10 to 30"
   ]
  },
  {
   "cell_type": "code",
   "execution_count": 38,
   "id": "dfb61df3",
   "metadata": {},
   "outputs": [
    {
     "name": "stdout",
     "output_type": "stream",
     "text": [
      "[10, 12, 14, 16, 18, 20, 22, 24, 26, 28, 30]\n",
      "[11, 13, 15, 17, 19, 21, 23, 25, 27, 29]\n"
     ]
    }
   ],
   "source": [
    "even = []\n",
    "odd = []\n",
    "\n",
    "for i in range(10,31):\n",
    "    \n",
    "    if i%2 == 0:\n",
    "        \n",
    "        even.append(i)  \n",
    "        \n",
    "    else:\n",
    "        \n",
    "        odd.append(i)\n",
    "\n",
    "print(even)\n",
    "print(odd)"
   ]
  },
  {
   "cell_type": "markdown",
   "id": "bd73366b",
   "metadata": {},
   "source": [
    "Artificial intelligence is the intelligence of machines or software, as opposed to the intelligence of humans or animals. It is also the field of study in computer science that develops and studies intelligent machines"
   ]
  },
  {
   "cell_type": "code",
   "execution_count": null,
   "id": "abf195d8",
   "metadata": {},
   "outputs": [],
   "source": [
    "The count of vowels -- a,e,i,o,u\n",
    "the count consonents--"
   ]
  },
  {
   "cell_type": "code",
   "execution_count": 39,
   "id": "f7146e42",
   "metadata": {},
   "outputs": [],
   "source": [
    "name = 'Artificial intelligence is the intelligence of machines or software, as opposed to the intelligence of humans or animals. It is also the field of study in computer science that develops and studies intelligent machines'"
   ]
  },
  {
   "cell_type": "code",
   "execution_count": 40,
   "id": "420aae30",
   "metadata": {},
   "outputs": [
    {
     "data": {
      "text/plain": [
       "str"
      ]
     },
     "execution_count": 40,
     "metadata": {},
     "output_type": "execute_result"
    }
   ],
   "source": [
    "type(name)"
   ]
  },
  {
   "cell_type": "code",
   "execution_count": 41,
   "id": "d661f13d",
   "metadata": {},
   "outputs": [
    {
     "data": {
      "text/plain": [
       "'Artificial intelligence is the intelligence of machines or software, as opposed to the intelligence of humans or animals. It is also the field of study in computer science that develops and studies intelligent machines'"
      ]
     },
     "execution_count": 41,
     "metadata": {},
     "output_type": "execute_result"
    }
   ],
   "source": [
    "name"
   ]
  },
  {
   "cell_type": "code",
   "execution_count": 48,
   "id": "3a59a701",
   "metadata": {},
   "outputs": [
    {
     "name": "stdout",
     "output_type": "stream",
     "text": [
      "The number of vowels are 74\n",
      "The number of consonants are 111\n",
      "The number of spaces are 33\n"
     ]
    }
   ],
   "source": [
    "name = 'Artificial intelligence is the intelligence of machines or software, as opposed to the intelligence of humans or animals. It is also the field of study in computer science that develops and studies intelligent machines'\n",
    "\n",
    "\n",
    "vowel = ['a','e','i','o','u','A','E','I','O','U']\n",
    "vowel_count = 0\n",
    "cons_count = 0\n",
    "space_count = 0\n",
    "for i in name:\n",
    "    if i in vowel:\n",
    "        vowel_count = vowel_count+1\n",
    "        \n",
    "    elif i == ' ':\n",
    "        space_count = space_count + 1\n",
    "    else:\n",
    "        cons_count = cons_count+1\n",
    "    \n",
    "print('The number of vowels are',vowel_count)\n",
    "print('The number of consonants are',cons_count)\n",
    "print('The number of spaces are',space_count)"
   ]
  },
  {
   "cell_type": "markdown",
   "id": "b20d75df",
   "metadata": {},
   "source": [
    "### Nested for loop"
   ]
  },
  {
   "cell_type": "markdown",
   "id": "3a3ddf27",
   "metadata": {},
   "source": [
    "### Multiplication Table"
   ]
  },
  {
   "cell_type": "code",
   "execution_count": 5,
   "id": "47abc57f",
   "metadata": {},
   "outputs": [
    {
     "name": "stdout",
     "output_type": "stream",
     "text": [
      "1 * 1 = 1\n",
      "1 * 2 = 2\n",
      "1 * 3 = 3\n",
      "1 * 4 = 4\n",
      "1 * 5 = 5\n",
      "1 * 6 = 6\n",
      "1 * 7 = 7\n",
      "1 * 8 = 8\n",
      "1 * 9 = 9\n",
      "1 * 10 = 10\n",
      "2 * 1 = 2\n",
      "2 * 2 = 4\n",
      "2 * 3 = 6\n",
      "2 * 4 = 8\n",
      "2 * 5 = 10\n",
      "2 * 6 = 12\n",
      "2 * 7 = 14\n",
      "2 * 8 = 16\n",
      "2 * 9 = 18\n",
      "2 * 10 = 20\n",
      "3 * 1 = 3\n",
      "3 * 2 = 6\n",
      "3 * 3 = 9\n",
      "3 * 4 = 12\n",
      "3 * 5 = 15\n",
      "3 * 6 = 18\n",
      "3 * 7 = 21\n",
      "3 * 8 = 24\n",
      "3 * 9 = 27\n",
      "3 * 10 = 30\n",
      "4 * 1 = 4\n",
      "4 * 2 = 8\n",
      "4 * 3 = 12\n",
      "4 * 4 = 16\n",
      "4 * 5 = 20\n",
      "4 * 6 = 24\n",
      "4 * 7 = 28\n",
      "4 * 8 = 32\n",
      "4 * 9 = 36\n",
      "4 * 10 = 40\n",
      "5 * 1 = 5\n",
      "5 * 2 = 10\n",
      "5 * 3 = 15\n",
      "5 * 4 = 20\n",
      "5 * 5 = 25\n",
      "5 * 6 = 30\n",
      "5 * 7 = 35\n",
      "5 * 8 = 40\n",
      "5 * 9 = 45\n",
      "5 * 10 = 50\n",
      "6 * 1 = 6\n",
      "6 * 2 = 12\n",
      "6 * 3 = 18\n",
      "6 * 4 = 24\n",
      "6 * 5 = 30\n",
      "6 * 6 = 36\n",
      "6 * 7 = 42\n",
      "6 * 8 = 48\n",
      "6 * 9 = 54\n",
      "6 * 10 = 60\n",
      "7 * 1 = 7\n",
      "7 * 2 = 14\n",
      "7 * 3 = 21\n",
      "7 * 4 = 28\n",
      "7 * 5 = 35\n",
      "7 * 6 = 42\n",
      "7 * 7 = 49\n",
      "7 * 8 = 56\n",
      "7 * 9 = 63\n",
      "7 * 10 = 70\n",
      "8 * 1 = 8\n",
      "8 * 2 = 16\n",
      "8 * 3 = 24\n",
      "8 * 4 = 32\n",
      "8 * 5 = 40\n",
      "8 * 6 = 48\n",
      "8 * 7 = 56\n",
      "8 * 8 = 64\n",
      "8 * 9 = 72\n",
      "8 * 10 = 80\n",
      "9 * 1 = 9\n",
      "9 * 2 = 18\n",
      "9 * 3 = 27\n",
      "9 * 4 = 36\n",
      "9 * 5 = 45\n",
      "9 * 6 = 54\n",
      "9 * 7 = 63\n",
      "9 * 8 = 72\n",
      "9 * 9 = 81\n",
      "9 * 10 = 90\n",
      "10 * 1 = 10\n",
      "10 * 2 = 20\n",
      "10 * 3 = 30\n",
      "10 * 4 = 40\n",
      "10 * 5 = 50\n",
      "10 * 6 = 60\n",
      "10 * 7 = 70\n",
      "10 * 8 = 80\n",
      "10 * 9 = 90\n",
      "10 * 10 = 100\n",
      "11 * 1 = 11\n",
      "11 * 2 = 22\n",
      "11 * 3 = 33\n",
      "11 * 4 = 44\n",
      "11 * 5 = 55\n",
      "11 * 6 = 66\n",
      "11 * 7 = 77\n",
      "11 * 8 = 88\n",
      "11 * 9 = 99\n",
      "11 * 10 = 110\n",
      "12 * 1 = 12\n",
      "12 * 2 = 24\n",
      "12 * 3 = 36\n",
      "12 * 4 = 48\n",
      "12 * 5 = 60\n",
      "12 * 6 = 72\n",
      "12 * 7 = 84\n",
      "12 * 8 = 96\n",
      "12 * 9 = 108\n",
      "12 * 10 = 120\n",
      "13 * 1 = 13\n",
      "13 * 2 = 26\n",
      "13 * 3 = 39\n",
      "13 * 4 = 52\n",
      "13 * 5 = 65\n",
      "13 * 6 = 78\n",
      "13 * 7 = 91\n",
      "13 * 8 = 104\n",
      "13 * 9 = 117\n",
      "13 * 10 = 130\n",
      "14 * 1 = 14\n",
      "14 * 2 = 28\n",
      "14 * 3 = 42\n",
      "14 * 4 = 56\n",
      "14 * 5 = 70\n",
      "14 * 6 = 84\n",
      "14 * 7 = 98\n",
      "14 * 8 = 112\n",
      "14 * 9 = 126\n",
      "14 * 10 = 140\n",
      "15 * 1 = 15\n",
      "15 * 2 = 30\n",
      "15 * 3 = 45\n",
      "15 * 4 = 60\n",
      "15 * 5 = 75\n",
      "15 * 6 = 90\n",
      "15 * 7 = 105\n",
      "15 * 8 = 120\n",
      "15 * 9 = 135\n",
      "15 * 10 = 150\n",
      "16 * 1 = 16\n",
      "16 * 2 = 32\n",
      "16 * 3 = 48\n",
      "16 * 4 = 64\n",
      "16 * 5 = 80\n",
      "16 * 6 = 96\n",
      "16 * 7 = 112\n",
      "16 * 8 = 128\n",
      "16 * 9 = 144\n",
      "16 * 10 = 160\n",
      "17 * 1 = 17\n",
      "17 * 2 = 34\n",
      "17 * 3 = 51\n",
      "17 * 4 = 68\n",
      "17 * 5 = 85\n",
      "17 * 6 = 102\n",
      "17 * 7 = 119\n",
      "17 * 8 = 136\n",
      "17 * 9 = 153\n",
      "17 * 10 = 170\n",
      "18 * 1 = 18\n",
      "18 * 2 = 36\n",
      "18 * 3 = 54\n",
      "18 * 4 = 72\n",
      "18 * 5 = 90\n",
      "18 * 6 = 108\n",
      "18 * 7 = 126\n",
      "18 * 8 = 144\n",
      "18 * 9 = 162\n",
      "18 * 10 = 180\n",
      "19 * 1 = 19\n",
      "19 * 2 = 38\n",
      "19 * 3 = 57\n",
      "19 * 4 = 76\n",
      "19 * 5 = 95\n",
      "19 * 6 = 114\n",
      "19 * 7 = 133\n",
      "19 * 8 = 152\n",
      "19 * 9 = 171\n",
      "19 * 10 = 190\n",
      "20 * 1 = 20\n",
      "20 * 2 = 40\n",
      "20 * 3 = 60\n",
      "20 * 4 = 80\n",
      "20 * 5 = 100\n",
      "20 * 6 = 120\n",
      "20 * 7 = 140\n",
      "20 * 8 = 160\n",
      "20 * 9 = 180\n",
      "20 * 10 = 200\n"
     ]
    }
   ],
   "source": [
    "\n",
    "for i in range(1,21):\n",
    "    \n",
    "    for j in range(1,11):\n",
    "        \n",
    "        print(f'{i} * {j} =',i*j )\n",
    "    \n",
    "        \n",
    "    "
   ]
  },
  {
   "cell_type": "markdown",
   "id": "1a5ed235",
   "metadata": {},
   "source": [
    "### list comprehension"
   ]
  },
  {
   "cell_type": "code",
   "execution_count": null,
   "id": "793a004d",
   "metadata": {},
   "outputs": [],
   "source": [
    "first_value if condition else second_value"
   ]
  },
  {
   "cell_type": "code",
   "execution_count": null,
   "id": "ed28d016",
   "metadata": {},
   "outputs": [],
   "source": [
    "#find the square the number from 1 to  10 and store them in a list using for loop"
   ]
  },
  {
   "cell_type": "code",
   "execution_count": 7,
   "id": "1b919b79",
   "metadata": {},
   "outputs": [
    {
     "data": {
      "text/plain": [
       "[1, 4, 9, 16, 25, 36, 49, 64, 81, 100]"
      ]
     },
     "execution_count": 7,
     "metadata": {},
     "output_type": "execute_result"
    }
   ],
   "source": [
    "square = []\n",
    "for i in range(1,11):\n",
    "    square.append(i * i)\n",
    "\n",
    "square"
   ]
  },
  {
   "cell_type": "code",
   "execution_count": null,
   "id": "6399eb19",
   "metadata": {},
   "outputs": [],
   "source": [
    "[1,4,9,16,25,36,49,64,81,100]"
   ]
  },
  {
   "cell_type": "markdown",
   "id": "2974774e",
   "metadata": {},
   "source": [
    "[expression  for variable in iterable]"
   ]
  },
  {
   "cell_type": "code",
   "execution_count": 8,
   "id": "6f0af76a",
   "metadata": {},
   "outputs": [
    {
     "data": {
      "text/plain": [
       "[1, 4, 9, 16, 25, 36, 49, 64, 81, 100]"
      ]
     },
     "execution_count": 8,
     "metadata": {},
     "output_type": "execute_result"
    }
   ],
   "source": [
    "[ i*i   for i in range(1,11)]"
   ]
  },
  {
   "cell_type": "code",
   "execution_count": null,
   "id": "dcb6378a",
   "metadata": {},
   "outputs": [],
   "source": [
    "# find all the even numbers from  40 to 60 using normal method and list comprehe..."
   ]
  },
  {
   "cell_type": "code",
   "execution_count": 14,
   "id": "4771fb1b",
   "metadata": {},
   "outputs": [
    {
     "data": {
      "text/plain": [
       "[40, 42, 44, 46, 48, 50, 52, 54, 56, 58, 60]"
      ]
     },
     "execution_count": 14,
     "metadata": {},
     "output_type": "execute_result"
    }
   ],
   "source": [
    "#normal method\n",
    "even = []\n",
    "for i in range(40,61):\n",
    "    if i%2 == 0:\n",
    "        even.append(i)\n",
    "even"
   ]
  },
  {
   "cell_type": "code",
   "execution_count": 17,
   "id": "f5a5c74c",
   "metadata": {},
   "outputs": [
    {
     "data": {
      "text/plain": [
       "[40, 42, 44, 46, 48, 50, 52, 54, 56, 58, 60]"
      ]
     },
     "execution_count": 17,
     "metadata": {},
     "output_type": "execute_result"
    }
   ],
   "source": [
    "#list comprehension\n",
    "[ i for i in range(40,61) if (i%2 == 0)]"
   ]
  },
  {
   "cell_type": "code",
   "execution_count": null,
   "id": "d7cd04da",
   "metadata": {},
   "outputs": [],
   "source": [
    "i/p : [1,4,9,16,25,36,49,64]\n",
    "    \n",
    "o/p:  [1,2,3,4,5,6,7,8] use both methods?"
   ]
  },
  {
   "cell_type": "code",
   "execution_count": 22,
   "id": "87f5565c",
   "metadata": {},
   "outputs": [
    {
     "data": {
      "text/plain": [
       "[1, 2, 3, 4, 5, 6, 7, 8]"
      ]
     },
     "execution_count": 22,
     "metadata": {},
     "output_type": "execute_result"
    }
   ],
   "source": [
    "val = [1,4,9,16,25,36,49,64]\n",
    "output = []\n",
    "for i in val:\n",
    "    output.append(int(i**0.5))\n",
    "output"
   ]
  },
  {
   "cell_type": "code",
   "execution_count": 23,
   "id": "f05dcb30",
   "metadata": {},
   "outputs": [
    {
     "data": {
      "text/plain": [
       "[1, 2, 3, 4, 5, 6, 7, 8]"
      ]
     },
     "execution_count": 23,
     "metadata": {},
     "output_type": "execute_result"
    }
   ],
   "source": [
    "[int(i ** 0.5)  for i in val]"
   ]
  },
  {
   "cell_type": "code",
   "execution_count": null,
   "id": "3414927c",
   "metadata": {},
   "outputs": [],
   "source": [
    "('rk@gmail.com','ravi@gmail','rajesh@gmail.com','ramesh@.com',9494321654,78934212,12345,8745123654)\n",
    "\n",
    "separate the valid mail Ids into variable 'mails' and phone numbers into 'mobiles'"
   ]
  },
  {
   "cell_type": "code",
   "execution_count": 24,
   "id": "32fca9a1",
   "metadata": {},
   "outputs": [],
   "source": [
    "val = ('rk@gmail.com','ravi@gmail','rajesh@gmail.com','ramesh@.com',9494321654,78934212,12345,8745123654)\n",
    "mails = []\n",
    "mobiles = []\n",
    "for i in val:\n",
    "    if type(i) == str:\n",
    "        if i.endswith('@gmail.com'):\n",
    "            mails.append(i)\n",
    "    else:\n",
    "        if len(str(i)) == 10:\n",
    "            mobiles.append(i)\n",
    "            "
   ]
  },
  {
   "cell_type": "code",
   "execution_count": 25,
   "id": "cb2861b0",
   "metadata": {},
   "outputs": [
    {
     "data": {
      "text/plain": [
       "['rk@gmail.com', 'rajesh@gmail.com']"
      ]
     },
     "execution_count": 25,
     "metadata": {},
     "output_type": "execute_result"
    }
   ],
   "source": [
    "mails"
   ]
  },
  {
   "cell_type": "code",
   "execution_count": 26,
   "id": "67fb7338",
   "metadata": {},
   "outputs": [
    {
     "data": {
      "text/plain": [
       "[9494321654, 8745123654]"
      ]
     },
     "execution_count": 26,
     "metadata": {},
     "output_type": "execute_result"
    }
   ],
   "source": [
    "mobiles"
   ]
  },
  {
   "cell_type": "code",
   "execution_count": null,
   "id": "8aefaa55",
   "metadata": {},
   "outputs": [],
   "source": [
    "salary = {'hyd':[45,76],\n",
    "          'Chennai':[40,66],\n",
    "           'bengalore':[50,80],\n",
    "           'mumbai': [20,34] \n",
    "          }\n",
    "\n",
    "This is data represents minimum and maximum salaries for a data scientist \n",
    "in different cities in india.\n",
    "\n",
    "1. find the average salary in hyderabad?\n",
    "2. What is the maximum salary in mumbai?\n",
    "3. What is the average salary for a data scientist in India?\n",
    "4, How many cities are represented in the given data?\n",
    "\n"
   ]
  },
  {
   "cell_type": "code",
   "execution_count": 27,
   "id": "4f6ec80a",
   "metadata": {},
   "outputs": [],
   "source": [
    "salary = {'hyd':[45,76],\n",
    "          'Chennai':[40,66],\n",
    "           'bengalore':[50,80],\n",
    "           'mumbai': [20,34] \n",
    "          }"
   ]
  },
  {
   "cell_type": "code",
   "execution_count": 30,
   "id": "96e12cc2",
   "metadata": {},
   "outputs": [
    {
     "data": {
      "text/plain": [
       "60.5"
      ]
     },
     "execution_count": 30,
     "metadata": {},
     "output_type": "execute_result"
    }
   ],
   "source": [
    "sum(salary['hyd']) / len(salary['hyd'])"
   ]
  },
  {
   "cell_type": "code",
   "execution_count": 31,
   "id": "9925e4c4",
   "metadata": {},
   "outputs": [
    {
     "data": {
      "text/plain": [
       "34"
      ]
     },
     "execution_count": 31,
     "metadata": {},
     "output_type": "execute_result"
    }
   ],
   "source": [
    "max(salary['mumbai'])"
   ]
  },
  {
   "cell_type": "code",
   "execution_count": 38,
   "id": "591b0a5a",
   "metadata": {},
   "outputs": [],
   "source": [
    "ind = []\n",
    "for i in salary.values():\n",
    "    ind.extend(i)"
   ]
  },
  {
   "cell_type": "code",
   "execution_count": 40,
   "id": "7f159070",
   "metadata": {},
   "outputs": [
    {
     "data": {
      "text/plain": [
       "51.375"
      ]
     },
     "execution_count": 40,
     "metadata": {},
     "output_type": "execute_result"
    }
   ],
   "source": [
    "sum(ind) / len(ind)"
   ]
  },
  {
   "cell_type": "code",
   "execution_count": 42,
   "id": "65a13534",
   "metadata": {},
   "outputs": [
    {
     "data": {
      "text/plain": [
       "dict_keys(['hyd', 'Chennai', 'bengalore', 'mumbai'])"
      ]
     },
     "execution_count": 42,
     "metadata": {},
     "output_type": "execute_result"
    }
   ],
   "source": [
    "salary.keys()"
   ]
  },
  {
   "cell_type": "markdown",
   "id": "ac190caa",
   "metadata": {},
   "source": [
    "### factorial"
   ]
  },
  {
   "cell_type": "code",
   "execution_count": 45,
   "id": "78c385aa",
   "metadata": {},
   "outputs": [
    {
     "name": "stdout",
     "output_type": "stream",
     "text": [
      "ENter the number to find factorial :: 7\n",
      "5040\n"
     ]
    }
   ],
   "source": [
    "num = int(input(\"ENter the number to find factorial :: \"))\n",
    "\n",
    "fact = 1\n",
    "\n",
    "for i in range(1,num+1):\n",
    "    fact = fact * i\n",
    "\n",
    "print(fact)"
   ]
  },
  {
   "cell_type": "markdown",
   "id": "19b88f11",
   "metadata": {},
   "source": [
    "In the class there are students rajesh,ramesh,suresh,prakash,mahesh,Nagesh\n",
    "who got marks (76,86,90),(99,23,45),(27,87,65),(12,42,22),(14,76,88),(92,48,89) \n",
    "respectively in maths ,physics and chemistry.\n",
    "\n",
    "Write the python code to find\n",
    "\n",
    "1. What is the average marks of total class?\n",
    "2. What is the highest marks suresh got ?\n",
    "3. what is the lowest marks of rajesh?\n",
    "4. Total marks of mahesh ?"
   ]
  },
  {
   "cell_type": "code",
   "execution_count": 46,
   "id": "81392805",
   "metadata": {},
   "outputs": [],
   "source": [
    "student = {'rajesh': (76,86,90),\n",
    "           'ramesh' : (99,23,45),\n",
    "           'suresh':(27,87,65),\n",
    "           'prakash': (12,42,22),\n",
    "           'mahesh' : (14,76,88),\n",
    "           'Nagesh' : (92,48,89)\n",
    "          \n",
    "          }"
   ]
  },
  {
   "cell_type": "code",
   "execution_count": 47,
   "id": "634f9247",
   "metadata": {},
   "outputs": [],
   "source": [
    "avg = []\n",
    "for i in student.values():\n",
    "    avg.extend(i)"
   ]
  },
  {
   "cell_type": "code",
   "execution_count": 52,
   "id": "b49b0095",
   "metadata": {},
   "outputs": [
    {
     "data": {
      "text/plain": [
       "60.05555555555556"
      ]
     },
     "execution_count": 52,
     "metadata": {},
     "output_type": "execute_result"
    }
   ],
   "source": [
    "class_average = sum(avg) / len(avg)\n",
    "class_average"
   ]
  },
  {
   "cell_type": "code",
   "execution_count": 54,
   "id": "10478c51",
   "metadata": {},
   "outputs": [
    {
     "data": {
      "text/plain": [
       "87"
      ]
     },
     "execution_count": 54,
     "metadata": {},
     "output_type": "execute_result"
    }
   ],
   "source": [
    "max(student['suresh'])"
   ]
  },
  {
   "cell_type": "code",
   "execution_count": 55,
   "id": "1a4a1d90",
   "metadata": {},
   "outputs": [
    {
     "data": {
      "text/plain": [
       "76"
      ]
     },
     "execution_count": 55,
     "metadata": {},
     "output_type": "execute_result"
    }
   ],
   "source": [
    "min(student['rajesh'])"
   ]
  },
  {
   "cell_type": "code",
   "execution_count": 57,
   "id": "dd36dedc",
   "metadata": {},
   "outputs": [
    {
     "data": {
      "text/plain": [
       "178"
      ]
     },
     "execution_count": 57,
     "metadata": {},
     "output_type": "execute_result"
    }
   ],
   "source": [
    "sum(student['mahesh'])"
   ]
  },
  {
   "cell_type": "code",
   "execution_count": null,
   "id": "5bd07ec0",
   "metadata": {},
   "outputs": [],
   "source": []
  }
 ],
 "metadata": {
  "kernelspec": {
   "display_name": "Python 3 (ipykernel)",
   "language": "python",
   "name": "python3"
  },
  "language_info": {
   "codemirror_mode": {
    "name": "ipython",
    "version": 3
   },
   "file_extension": ".py",
   "mimetype": "text/x-python",
   "name": "python",
   "nbconvert_exporter": "python",
   "pygments_lexer": "ipython3",
   "version": "3.11.4"
  }
 },
 "nbformat": 4,
 "nbformat_minor": 5
}
