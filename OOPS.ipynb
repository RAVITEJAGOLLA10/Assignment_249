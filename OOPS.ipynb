{
 "cells": [
  {
   "cell_type": "markdown",
   "id": "8f1f106d",
   "metadata": {},
   "source": [
    "## OOPS (Object Oriented Programming Style)"
   ]
  },
  {
   "cell_type": "markdown",
   "id": "4cde2e5d",
   "metadata": {},
   "source": [
    "#### Two programming Styles\n",
    "1. Modular or Functional or procedural\n",
    "2. OOPS"
   ]
  },
  {
   "cell_type": "code",
   "execution_count": null,
   "id": "5788a08a",
   "metadata": {},
   "outputs": [],
   "source": [
    "## Modular\n",
    "# This is in one file\n",
    "def func1():\n",
    "    pass\n",
    "\n",
    "def func2():\n",
    "    pass\n",
    "# this is in another file\n",
    "\n",
    "def func3():\n",
    "    pass\n",
    "print(\"Hello\")"
   ]
  },
  {
   "cell_type": "markdown",
   "id": "8a4d5857",
   "metadata": {},
   "source": [
    "## OOPS\n",
    "Six important concepts in OOPS\n",
    "1. class\n",
    "2. object\n",
    "3. Abstraction\n",
    "4. Inheritence\n",
    "5. Encapsulation\n",
    "6. Polymorphism"
   ]
  },
  {
   "cell_type": "code",
   "execution_count": null,
   "id": "f523aa95",
   "metadata": {},
   "outputs": [],
   "source": [
    "## Object\n",
    "1. Anything is an object if it has either properties\n",
    "or it can do some actions or both. "
   ]
  },
  {
   "cell_type": "code",
   "execution_count": null,
   "id": "9e3d6903",
   "metadata": {},
   "outputs": [],
   "source": [
    "# Examples of objects\n",
    "Car, Electricity, Laptop, UFO, python, Human, \n",
    "Animals, Bird, Pen, Mobile, Bottle, water"
   ]
  },
  {
   "cell_type": "code",
   "execution_count": null,
   "id": "c5947a83",
   "metadata": {},
   "outputs": [],
   "source": [
    "# Car\n",
    "how can you describe car?\n",
    "1. Four tyres\n",
    "2. Steering\n",
    "3. Engine\n",
    "4. Color\n",
    "5. AC\n",
    "6. Chasis\n",
    "7. Gear Box\n",
    "8. Brand\n",
    "9. Wind shield\n",
    "What car can do?\n",
    "1. Moves\n",
    "2. Stop\n",
    "3. Engine Start\n",
    "4. Engine Stop\n",
    "5. Music \n",
    "6. Honk"
   ]
  },
  {
   "cell_type": "code",
   "execution_count": null,
   "id": "5dcd921b",
   "metadata": {},
   "outputs": [],
   "source": [
    "# UFO\n",
    "Properties\n",
    "1. Shape\n",
    "2. Size\n",
    "3. Tech\n",
    "4. Legs\n",
    "5. Rador\n",
    "\n",
    "Actions\n",
    "1. Fly\n",
    "2. Travles through Space"
   ]
  },
  {
   "cell_type": "code",
   "execution_count": null,
   "id": "de46ad9a",
   "metadata": {},
   "outputs": [],
   "source": [
    "## Class\n",
    "Class is like Blueprint or Plan of creating Object, \n",
    "Designing object"
   ]
  },
  {
   "cell_type": "code",
   "execution_count": null,
   "id": "678890dd",
   "metadata": {},
   "outputs": [],
   "source": [
    "## Object\n",
    "Execution of class blueprint is called as object. \n",
    "\n",
    "Example of class: Blueprint of a Building\n",
    "Example of Object: Constructed Building. "
   ]
  },
  {
   "cell_type": "code",
   "execution_count": null,
   "id": "58b836e9",
   "metadata": {},
   "outputs": [],
   "source": [
    "Class will be written only once\n",
    "But Objects could be many for a single class. "
   ]
  },
  {
   "cell_type": "code",
   "execution_count": null,
   "id": "3f424a7f",
   "metadata": {},
   "outputs": [],
   "source": [
    "Object is also called as instance. "
   ]
  },
  {
   "cell_type": "code",
   "execution_count": null,
   "id": "460e164f",
   "metadata": {},
   "outputs": [],
   "source": [
    "## Syntax of class\n",
    "# Syntax 1\n",
    "class <ClassName>:\n",
    "    pass\n",
    "\n",
    "# Syntax 2\n",
    "class <ClassName>():\n",
    "    pass\n",
    "\n",
    "# Syntax 3\n",
    "class <ClassName>(object):\n",
    "    pass"
   ]
  },
  {
   "cell_type": "code",
   "execution_count": 1,
   "id": "471ced97",
   "metadata": {},
   "outputs": [],
   "source": [
    "## Example\n",
    "class ClassEx1:\n",
    "    pass\n",
    "\n",
    "class ClassEx2():\n",
    "    pass\n",
    "\n",
    "class ClassEx3(object):\n",
    "    pass"
   ]
  },
  {
   "cell_type": "code",
   "execution_count": null,
   "id": "e8475174",
   "metadata": {},
   "outputs": [],
   "source": [
    "## How to create Objects\n",
    "<obj_var> = <ClassName>()"
   ]
  },
  {
   "cell_type": "code",
   "execution_count": 2,
   "id": "e255997c",
   "metadata": {},
   "outputs": [],
   "source": [
    "cex1 = ClassEx1()\n",
    "cex11 = ClassEx1()\n",
    "cex2 = ClassEx2()\n",
    "cex22 = ClassEx2()\n",
    "cex3 = ClassEx3()\n",
    "cex32 = ClassEx3()"
   ]
  },
  {
   "cell_type": "code",
   "execution_count": 4,
   "id": "bce354bf",
   "metadata": {},
   "outputs": [
    {
     "data": {
      "text/plain": [
       "True"
      ]
     },
     "execution_count": 4,
     "metadata": {},
     "output_type": "execute_result"
    }
   ],
   "source": [
    "isinstance(cex1,ClassEx1)\n",
    "# isinstance is used to check, whether object belongs to \n",
    "# specific class or not. "
   ]
  },
  {
   "cell_type": "code",
   "execution_count": 5,
   "id": "e2acad6a",
   "metadata": {},
   "outputs": [
    {
     "data": {
      "text/plain": [
       "False"
      ]
     },
     "execution_count": 5,
     "metadata": {},
     "output_type": "execute_result"
    }
   ],
   "source": [
    "isinstance(cex1,ClassEx3)"
   ]
  },
  {
   "cell_type": "code",
   "execution_count": 9,
   "id": "9f0f8331",
   "metadata": {},
   "outputs": [
    {
     "data": {
      "text/plain": [
       "True"
      ]
     },
     "execution_count": 9,
     "metadata": {},
     "output_type": "execute_result"
    }
   ],
   "source": [
    "isinstance(5,int) # Yes. \n",
    "# Python Everything is a Object. "
   ]
  },
  {
   "cell_type": "code",
   "execution_count": null,
   "id": "433f6c9f",
   "metadata": {},
   "outputs": [],
   "source": [
    "## One Important Note on Naming Convention \n",
    "# Of classes\n",
    "\n",
    "#Use TitleCase for Naming Classes.\n",
    "# Use Lowercase for methods. \n",
    "WordOrder\n",
    "DellLaptop\n",
    "Building\n",
    "Animal\n",
    "Car\n",
    "\n",
    "WriteThis => Class\n",
    "writethis => Method or Function"
   ]
  },
  {
   "cell_type": "code",
   "execution_count": 12,
   "id": "2caa762d",
   "metadata": {},
   "outputs": [],
   "source": [
    "## Process of Object Creation\n",
    "class Animal:\n",
    "    pass\n",
    "\n",
    "a = Animal()\n",
    "# As soon as Object creation process is invoked,\n",
    "# python will call a constructor, whose job is\n",
    "# to allocate memory for the newly created object\n",
    "# using necessary resources\n",
    "# name of the constructor is __new__"
   ]
  },
  {
   "cell_type": "code",
   "execution_count": null,
   "id": "714ab538",
   "metadata": {},
   "outputs": [],
   "source": [
    "## self parameter\n",
    "self => Object it self which we are using. "
   ]
  },
  {
   "cell_type": "code",
   "execution_count": null,
   "id": "6a38861f",
   "metadata": {},
   "outputs": [],
   "source": [
    "## __init__\n",
    "# This will initialize the properties of the Objets. \n",
    "# __init__ is used to describe the object. "
   ]
  },
  {
   "cell_type": "code",
   "execution_count": null,
   "id": "76ffd948",
   "metadata": {},
   "outputs": [],
   "source": [
    "Note: For Every instance Method created inside class,\n",
    "    self should be first parameter"
   ]
  },
  {
   "cell_type": "code",
   "execution_count": 15,
   "id": "448d1e5b",
   "metadata": {},
   "outputs": [],
   "source": [
    "class Animal:\n",
    "    \"\"\"\n",
    "    Animal Class\n",
    "    \"\"\"\n",
    "    def __init__(self, color, sound,iswild):\n",
    "        self.color = color\n",
    "        self.sound = sound\n",
    "        self.isCruel = iswild\n",
    "        "
   ]
  },
  {
   "cell_type": "code",
   "execution_count": 17,
   "id": "0b8e679f",
   "metadata": {},
   "outputs": [],
   "source": [
    "cat = Animal(\"White\",\"Meaw\",False)\n",
    "tiger = Animal(\"Yellow\", \"Grrrrr\",True)"
   ]
  },
  {
   "cell_type": "code",
   "execution_count": 29,
   "id": "83b57a83",
   "metadata": {},
   "outputs": [
    {
     "data": {
      "text/plain": [
       "'White'"
      ]
     },
     "execution_count": 29,
     "metadata": {},
     "output_type": "execute_result"
    }
   ],
   "source": [
    "cat.color"
   ]
  },
  {
   "cell_type": "code",
   "execution_count": 23,
   "id": "aa69628d",
   "metadata": {},
   "outputs": [
    {
     "data": {
      "text/plain": [
       "'Yellow'"
      ]
     },
     "execution_count": 23,
     "metadata": {},
     "output_type": "execute_result"
    }
   ],
   "source": [
    "tiger.color"
   ]
  },
  {
   "cell_type": "code",
   "execution_count": 16,
   "id": "20cbacfe",
   "metadata": {},
   "outputs": [
    {
     "ename": "NameError",
     "evalue": "name 'x' is not defined",
     "output_type": "error",
     "traceback": [
      "\u001b[1;31m---------------------------------------------------------------------------\u001b[0m",
      "\u001b[1;31mNameError\u001b[0m                                 Traceback (most recent call last)",
      "Cell \u001b[1;32mIn[16], line 6\u001b[0m\n\u001b[0;32m      4\u001b[0m     \u001b[38;5;28;01mpass\u001b[39;00m\n\u001b[0;32m      5\u001b[0m A(\u001b[38;5;241m5\u001b[39m)\n\u001b[1;32m----> 6\u001b[0m \u001b[38;5;28mprint\u001b[39m(x)\n",
      "\u001b[1;31mNameError\u001b[0m: name 'x' is not defined"
     ]
    }
   ],
   "source": [
    "def A(x):\n",
    "    global Y\n",
    "    Y = x\n",
    "    pass\n",
    "A(5)\n",
    "print(x)"
   ]
  },
  {
   "cell_type": "code",
   "execution_count": 1,
   "id": "11a918d0",
   "metadata": {},
   "outputs": [],
   "source": [
    "class Animal:\n",
    "    \"\"\"\n",
    "    Animal Class\n",
    "    \"\"\"\n",
    "    def __init__(self, name, color, sound,iswild):\n",
    "        self.name = name\n",
    "        self.color = color\n",
    "        self.sound = sound\n",
    "        self.isCruel = iswild\n",
    "    \n",
    "    def sleep(self):\n",
    "        print(self.name+\" is sleeping\")\n",
    "    \n",
    "    def awake(self):\n",
    "        print(self.name+\" is Awoke\")\n",
    "    \n",
    "    def eat(self, food):\n",
    "        print(self.name+\" is Eating \"+food)\n"
   ]
  },
  {
   "cell_type": "code",
   "execution_count": 2,
   "id": "82a6453e",
   "metadata": {},
   "outputs": [],
   "source": [
    "cat = Animal(\"Cat\",\"Black\",\"Meaw\",False)\n",
    "tiger = Animal(\"Tiger\",\"White\", \"Grrrr\",True)"
   ]
  },
  {
   "cell_type": "code",
   "execution_count": 32,
   "id": "2089214c",
   "metadata": {},
   "outputs": [
    {
     "name": "stdout",
     "output_type": "stream",
     "text": [
      "Cat is sleeping\n"
     ]
    }
   ],
   "source": [
    "cat.sleep()"
   ]
  },
  {
   "cell_type": "code",
   "execution_count": 33,
   "id": "77b3f001",
   "metadata": {},
   "outputs": [
    {
     "name": "stdout",
     "output_type": "stream",
     "text": [
      "Tiger is sleeping\n"
     ]
    }
   ],
   "source": [
    "tiger.sleep()"
   ]
  },
  {
   "cell_type": "code",
   "execution_count": 34,
   "id": "33f25ef5",
   "metadata": {},
   "outputs": [
    {
     "ename": "TypeError",
     "evalue": "Animal.sleep() takes 1 positional argument but 2 were given",
     "output_type": "error",
     "traceback": [
      "\u001b[1;31m---------------------------------------------------------------------------\u001b[0m",
      "\u001b[1;31mTypeError\u001b[0m                                 Traceback (most recent call last)",
      "Cell \u001b[1;32mIn[34], line 1\u001b[0m\n\u001b[1;32m----> 1\u001b[0m cat\u001b[38;5;241m.\u001b[39msleep(\u001b[38;5;241m1\u001b[39m)\n",
      "\u001b[1;31mTypeError\u001b[0m: Animal.sleep() takes 1 positional argument but 2 were given"
     ]
    }
   ],
   "source": [
    "cat.sleep(1)"
   ]
  },
  {
   "cell_type": "code",
   "execution_count": 36,
   "id": "83d7d277",
   "metadata": {},
   "outputs": [
    {
     "name": "stdout",
     "output_type": "stream",
     "text": [
      "Cat is sleeping\n",
      "Cat is sleeping\n"
     ]
    }
   ],
   "source": [
    "Animal.sleep(cat)\n",
    "cat.sleep() # Animal.sleep(cat)"
   ]
  },
  {
   "cell_type": "code",
   "execution_count": null,
   "id": "08764575",
   "metadata": {},
   "outputs": [],
   "source": [
    "## Task for Everybody\n",
    "#Create a Class Name of your Choice\n",
    "# properties, Actions\n",
    "# Create atleast 2 Objects, use Properties, use Actions. "
   ]
  },
  {
   "cell_type": "code",
   "execution_count": 3,
   "id": "99ed640c",
   "metadata": {},
   "outputs": [
    {
     "name": "stdout",
     "output_type": "stream",
     "text": [
      "Cat is Eating Rat\n"
     ]
    }
   ],
   "source": [
    "cat.eat(\"Rat\")"
   ]
  },
  {
   "cell_type": "code",
   "execution_count": 4,
   "id": "45bc1cfa",
   "metadata": {},
   "outputs": [
    {
     "name": "stdout",
     "output_type": "stream",
     "text": [
      "Cat is Eating Rat\n"
     ]
    }
   ],
   "source": [
    "Animal.eat(cat,'Rat')"
   ]
  },
  {
   "cell_type": "markdown",
   "id": "7f25a68b",
   "metadata": {},
   "source": [
    "## PolyMorphism"
   ]
  },
  {
   "cell_type": "code",
   "execution_count": null,
   "id": "e120591a",
   "metadata": {},
   "outputs": [],
   "source": [
    "# poly => Many\n",
    "# Morph => Different Behaviour"
   ]
  },
  {
   "cell_type": "code",
   "execution_count": 12,
   "id": "efc0b5bc",
   "metadata": {},
   "outputs": [],
   "source": [
    "# I want to calculate area of a circle,rectangle,square, triangle\n",
    "# I want to use only single function, which can do all these 4. \n",
    "def area(r = 0,l=0, b=0,base=0, height=0,iscircle=False,\\\n",
    "        isrect=False,issquare=False,istriangle=False):\n",
    "    if iscircle:\n",
    "        return 3.14*r*r\n",
    "    elif isrect:\n",
    "        return l*b\n",
    "    elif issquare:\n",
    "        return l*l\n",
    "    elif istriangle:\n",
    "        return 0.5*base*height"
   ]
  },
  {
   "cell_type": "code",
   "execution_count": 8,
   "id": "d7bca10c",
   "metadata": {},
   "outputs": [
    {
     "data": {
      "text/plain": [
       "28.259999999999998"
      ]
     },
     "execution_count": 8,
     "metadata": {},
     "output_type": "execute_result"
    }
   ],
   "source": [
    "area(r=3, iscircle=True)"
   ]
  },
  {
   "cell_type": "code",
   "execution_count": 9,
   "id": "3d51d6d9",
   "metadata": {},
   "outputs": [
    {
     "data": {
      "text/plain": [
       "20"
      ]
     },
     "execution_count": 9,
     "metadata": {},
     "output_type": "execute_result"
    }
   ],
   "source": [
    "area(l=4,b=5,isrect=True)"
   ]
  },
  {
   "cell_type": "code",
   "execution_count": 10,
   "id": "6b2527cf",
   "metadata": {},
   "outputs": [
    {
     "data": {
      "text/plain": [
       "25"
      ]
     },
     "execution_count": 10,
     "metadata": {},
     "output_type": "execute_result"
    }
   ],
   "source": [
    "area(l=5, issquare=True)"
   ]
  },
  {
   "cell_type": "code",
   "execution_count": 13,
   "id": "766f7b3b",
   "metadata": {},
   "outputs": [
    {
     "data": {
      "text/plain": [
       "6.0"
      ]
     },
     "execution_count": 13,
     "metadata": {},
     "output_type": "execute_result"
    }
   ],
   "source": [
    "area(base=6,height=2, istriangle=True)"
   ]
  },
  {
   "cell_type": "code",
   "execution_count": null,
   "id": "6bec0078",
   "metadata": {},
   "outputs": [],
   "source": [
    "# How to achieve polymorphims ?\n",
    "# By taking the help of different types of Parameters given"
   ]
  },
  {
   "cell_type": "code",
   "execution_count": 14,
   "id": "e7c2975b",
   "metadata": {},
   "outputs": [],
   "source": [
    "class Geometry:\n",
    "    def area(self,r = 0,l=0, b=0,base=0, height=0,iscircle=False,\\\n",
    "        isrect=False,issquare=False,istriangle=False):\n",
    "        if iscircle:\n",
    "            return 3.14*r*r\n",
    "        elif isrect:\n",
    "            return l*b\n",
    "        elif issquare:\n",
    "            return l*l\n",
    "        elif istriangle:\n",
    "            return 0.5*base*height"
   ]
  },
  {
   "cell_type": "code",
   "execution_count": 15,
   "id": "ff142a9c",
   "metadata": {},
   "outputs": [],
   "source": [
    "g = Geometry()"
   ]
  },
  {
   "cell_type": "code",
   "execution_count": 16,
   "id": "7e53efa7",
   "metadata": {},
   "outputs": [
    {
     "data": {
      "text/plain": [
       "3.14"
      ]
     },
     "execution_count": 16,
     "metadata": {},
     "output_type": "execute_result"
    }
   ],
   "source": [
    "g.area(r=1, iscircle=True)"
   ]
  },
  {
   "cell_type": "markdown",
   "id": "f7ef2f76",
   "metadata": {},
   "source": [
    "## Inheritence"
   ]
  },
  {
   "cell_type": "code",
   "execution_count": 17,
   "id": "1805a307",
   "metadata": {},
   "outputs": [
    {
     "name": "stdout",
     "output_type": "stream",
     "text": [
      "Help on class object in module builtins:\n",
      "\n",
      "class object\n",
      " |  The base class of the class hierarchy.\n",
      " |  \n",
      " |  When called, it accepts no arguments and returns a new featureless\n",
      " |  instance that has no instance attributes and cannot be given any.\n",
      " |  \n",
      " |  Built-in subclasses:\n",
      " |      anext_awaitable\n",
      " |      async_generator\n",
      " |      async_generator_asend\n",
      " |      async_generator_athrow\n",
      " |      ... and 107 other subclasses\n",
      " |  \n",
      " |  Methods defined here:\n",
      " |  \n",
      " |  __delattr__(self, name, /)\n",
      " |      Implement delattr(self, name).\n",
      " |  \n",
      " |  __dir__(self, /)\n",
      " |      Default dir() implementation.\n",
      " |  \n",
      " |  __eq__(self, value, /)\n",
      " |      Return self==value.\n",
      " |  \n",
      " |  __format__(self, format_spec, /)\n",
      " |      Default object formatter.\n",
      " |  \n",
      " |  __ge__(self, value, /)\n",
      " |      Return self>=value.\n",
      " |  \n",
      " |  __getattribute__(self, name, /)\n",
      " |      Return getattr(self, name).\n",
      " |  \n",
      " |  __getstate__(self, /)\n",
      " |      Helper for pickle.\n",
      " |  \n",
      " |  __gt__(self, value, /)\n",
      " |      Return self>value.\n",
      " |  \n",
      " |  __hash__(self, /)\n",
      " |      Return hash(self).\n",
      " |  \n",
      " |  __init__(self, /, *args, **kwargs)\n",
      " |      Initialize self.  See help(type(self)) for accurate signature.\n",
      " |  \n",
      " |  __le__(self, value, /)\n",
      " |      Return self<=value.\n",
      " |  \n",
      " |  __lt__(self, value, /)\n",
      " |      Return self<value.\n",
      " |  \n",
      " |  __ne__(self, value, /)\n",
      " |      Return self!=value.\n",
      " |  \n",
      " |  __reduce__(self, /)\n",
      " |      Helper for pickle.\n",
      " |  \n",
      " |  __reduce_ex__(self, protocol, /)\n",
      " |      Helper for pickle.\n",
      " |  \n",
      " |  __repr__(self, /)\n",
      " |      Return repr(self).\n",
      " |  \n",
      " |  __setattr__(self, name, value, /)\n",
      " |      Implement setattr(self, name, value).\n",
      " |  \n",
      " |  __sizeof__(self, /)\n",
      " |      Size of object in memory, in bytes.\n",
      " |  \n",
      " |  __str__(self, /)\n",
      " |      Return str(self).\n",
      " |  \n",
      " |  ----------------------------------------------------------------------\n",
      " |  Class methods defined here:\n",
      " |  \n",
      " |  __init_subclass__(...) from builtins.type\n",
      " |      This method is called when a class is subclassed.\n",
      " |      \n",
      " |      The default implementation does nothing. It may be\n",
      " |      overridden to extend subclasses.\n",
      " |  \n",
      " |  __subclasshook__(...) from builtins.type\n",
      " |      Abstract classes can override this to customize issubclass().\n",
      " |      \n",
      " |      This is invoked early on by abc.ABCMeta.__subclasscheck__().\n",
      " |      It should return True, False or NotImplemented.  If it returns\n",
      " |      NotImplemented, the normal algorithm is used.  Otherwise, it\n",
      " |      overrides the normal algorithm (and the outcome is cached).\n",
      " |  \n",
      " |  ----------------------------------------------------------------------\n",
      " |  Static methods defined here:\n",
      " |  \n",
      " |  __new__(*args, **kwargs) from builtins.type\n",
      " |      Create and return a new object.  See help(type) for accurate signature.\n",
      " |  \n",
      " |  ----------------------------------------------------------------------\n",
      " |  Data and other attributes defined here:\n",
      " |  \n",
      " |  __class__ = <class 'type'>\n",
      " |      type(object) -> the object's type\n",
      " |      type(name, bases, dict, **kwds) -> a new type\n",
      "\n"
     ]
    }
   ],
   "source": [
    "help(object)"
   ]
  },
  {
   "cell_type": "code",
   "execution_count": null,
   "id": "a4ba168d",
   "metadata": {},
   "outputs": [],
   "source": [
    "class Parent:\n",
    "    pass\n",
    "\n",
    "class Child(Parent):\n",
    "    passs\n",
    "   "
   ]
  },
  {
   "cell_type": "code",
   "execution_count": null,
   "id": "8bb8f368",
   "metadata": {},
   "outputs": [],
   "source": [
    "## Syntax\n",
    "class <ClassName>(ParentClassNames):\n",
    "    pass"
   ]
  },
  {
   "cell_type": "code",
   "execution_count": 18,
   "id": "caa84a8e",
   "metadata": {},
   "outputs": [],
   "source": [
    "class ClassEx1(object):\n",
    "    pass\n",
    "\n",
    "class ClassEx2:\n",
    "    pass"
   ]
  },
  {
   "cell_type": "code",
   "execution_count": 19,
   "id": "23d8eafa",
   "metadata": {},
   "outputs": [
    {
     "data": {
      "text/plain": [
       "[__main__.ClassEx2, object]"
      ]
     },
     "execution_count": 19,
     "metadata": {},
     "output_type": "execute_result"
    }
   ],
   "source": [
    "ClassEx2.mro()"
   ]
  },
  {
   "cell_type": "code",
   "execution_count": 20,
   "id": "5f56988c",
   "metadata": {},
   "outputs": [
    {
     "data": {
      "text/plain": [
       "[__main__.ClassEx1, object]"
      ]
     },
     "execution_count": 20,
     "metadata": {},
     "output_type": "execute_result"
    }
   ],
   "source": [
    "ClassEx1.mro()"
   ]
  },
  {
   "cell_type": "code",
   "execution_count": null,
   "id": "e2c70397",
   "metadata": {},
   "outputs": [],
   "source": [
    "# object is the superclass of all the Classes in Python\n",
    "# superclass => Parent"
   ]
  },
  {
   "cell_type": "code",
   "execution_count": 21,
   "id": "c9132a45",
   "metadata": {},
   "outputs": [],
   "source": [
    "class Animal:\n",
    "    def eat(self):\n",
    "        print(\"Eating\")\n",
    "    \n",
    "    def sleep(self):\n",
    "        print(\"Sleep\")\n",
    "    \n",
    "    def walk(self):\n",
    "        print(\"Walk\")"
   ]
  },
  {
   "cell_type": "code",
   "execution_count": 22,
   "id": "92e345f3",
   "metadata": {},
   "outputs": [],
   "source": [
    "class Dog(Animal):\n",
    "    def bite(self):\n",
    "        print(\"Bite\")\n",
    "        \n",
    "    def bark(self):\n",
    "        print(\"Barks\")\n",
    "        \n",
    "class Panda(Animal):\n",
    "    def cute(self):\n",
    "        print(\"Cute\")\n",
    "\n",
    "class Husky(Dog):\n",
    "    def play(self):\n",
    "        print(\"Playing\")\n",
    "        \n",
    "class Monkey(Animal):\n",
    "    def jump(self):\n",
    "        print(\"jump\")"
   ]
  },
  {
   "cell_type": "code",
   "execution_count": 23,
   "id": "6bb0661a",
   "metadata": {},
   "outputs": [],
   "source": [
    "animal1 = Animal()\n",
    "dog1 = Dog()\n",
    "panda1 = Panda()\n",
    "husky1 = Husky()\n",
    "monkey1 = Monkey()"
   ]
  },
  {
   "cell_type": "code",
   "execution_count": 24,
   "id": "f4a7c86e",
   "metadata": {},
   "outputs": [
    {
     "name": "stdout",
     "output_type": "stream",
     "text": [
      "Eating\n"
     ]
    }
   ],
   "source": [
    "animal1.eat()"
   ]
  },
  {
   "cell_type": "code",
   "execution_count": 25,
   "id": "9465d5b1",
   "metadata": {},
   "outputs": [
    {
     "name": "stdout",
     "output_type": "stream",
     "text": [
      "Eating\n"
     ]
    }
   ],
   "source": [
    "dog1.eat()"
   ]
  },
  {
   "cell_type": "code",
   "execution_count": 26,
   "id": "ed3b633a",
   "metadata": {},
   "outputs": [
    {
     "name": "stdout",
     "output_type": "stream",
     "text": [
      "Playing\n"
     ]
    }
   ],
   "source": [
    "husky1.play()"
   ]
  },
  {
   "cell_type": "code",
   "execution_count": 27,
   "id": "3a7da222",
   "metadata": {},
   "outputs": [
    {
     "name": "stdout",
     "output_type": "stream",
     "text": [
      "Eating\n"
     ]
    }
   ],
   "source": [
    "husky1.eat()"
   ]
  },
  {
   "cell_type": "code",
   "execution_count": 28,
   "id": "9f127d9f",
   "metadata": {},
   "outputs": [
    {
     "name": "stdout",
     "output_type": "stream",
     "text": [
      "Barks\n"
     ]
    }
   ],
   "source": [
    "husky1.bark()"
   ]
  },
  {
   "cell_type": "code",
   "execution_count": 29,
   "id": "5d1a66ed",
   "metadata": {},
   "outputs": [],
   "source": [
    "class Monkey(Animal):\n",
    "    def sleep(self):\n",
    "        print(\"Monkey is Sleeping\")\n",
    "\n",
    "    def jump(self):\n",
    "        print(\"jump\")"
   ]
  },
  {
   "cell_type": "code",
   "execution_count": 30,
   "id": "2f2dd6b9",
   "metadata": {},
   "outputs": [],
   "source": [
    "monkey2 = Monkey() "
   ]
  },
  {
   "cell_type": "code",
   "execution_count": 31,
   "id": "82f74b24",
   "metadata": {},
   "outputs": [
    {
     "name": "stdout",
     "output_type": "stream",
     "text": [
      "Monkey is Sleeping\n"
     ]
    }
   ],
   "source": [
    "monkey2.sleep()"
   ]
  },
  {
   "cell_type": "code",
   "execution_count": 32,
   "id": "95d38cb3",
   "metadata": {},
   "outputs": [
    {
     "data": {
      "text/plain": [
       "[__main__.Monkey, __main__.Animal, object]"
      ]
     },
     "execution_count": 32,
     "metadata": {},
     "output_type": "execute_result"
    }
   ],
   "source": [
    "# Method Resolution Order\n",
    "Monkey.mro()"
   ]
  },
  {
   "cell_type": "code",
   "execution_count": null,
   "id": "8d657709",
   "metadata": {},
   "outputs": [],
   "source": [
    "# Method Over riding.\n",
    "# child class implements a Method, Even though parent\n",
    "# class has the same method"
   ]
  },
  {
   "cell_type": "code",
   "execution_count": null,
   "id": "bad117f7",
   "metadata": {},
   "outputs": [],
   "source": [
    "# Method Over loading (This does not exist in Python)\n",
    "## If in same class, two functions with same name\n",
    "## but different signatures were created, then this is \n",
    "## called as Method overloading. \n",
    "\n",
    "## One can achieve method over loading behaviour\n",
    "# using different types of parameters. "
   ]
  },
  {
   "cell_type": "code",
   "execution_count": 33,
   "id": "30419801",
   "metadata": {},
   "outputs": [],
   "source": [
    "# Method overloading \n",
    "# This does not exist in Python\n",
    "class A:\n",
    "    def hello(self, a):\n",
    "        pass\n",
    "    def hello(self,a, b):\n",
    "        pass"
   ]
  },
  {
   "cell_type": "code",
   "execution_count": 34,
   "id": "aaf220ac",
   "metadata": {},
   "outputs": [],
   "source": [
    "a = A()"
   ]
  },
  {
   "cell_type": "code",
   "execution_count": 35,
   "id": "b4100895",
   "metadata": {},
   "outputs": [
    {
     "ename": "TypeError",
     "evalue": "A.hello() missing 1 required positional argument: 'b'",
     "output_type": "error",
     "traceback": [
      "\u001b[1;31m---------------------------------------------------------------------------\u001b[0m",
      "\u001b[1;31mTypeError\u001b[0m                                 Traceback (most recent call last)",
      "Cell \u001b[1;32mIn[35], line 1\u001b[0m\n\u001b[1;32m----> 1\u001b[0m a\u001b[38;5;241m.\u001b[39mhello(\u001b[38;5;241m3\u001b[39m)\n",
      "\u001b[1;31mTypeError\u001b[0m: A.hello() missing 1 required positional argument: 'b'"
     ]
    }
   ],
   "source": [
    "a.hello(3) # Error because only latest hello method\n",
    "# is considered. "
   ]
  },
  {
   "cell_type": "code",
   "execution_count": 47,
   "id": "05592eec",
   "metadata": {},
   "outputs": [],
   "source": [
    "class Animal:\n",
    "    def __init__(self, name):\n",
    "        print(\"I am In Animal Class\")\n",
    "        self.name = name\n",
    "    def eat(self):\n",
    "        print(\"Eating\")\n",
    "    \n",
    "    def sleep(self):\n",
    "        print(\"Sleep\")\n",
    "    \n",
    "    def walk(self):\n",
    "        print(\"Walk\")"
   ]
  },
  {
   "cell_type": "code",
   "execution_count": 59,
   "id": "9c7bd75c",
   "metadata": {},
   "outputs": [],
   "source": [
    "class Dog(Animal):\n",
    "    def __init__(self):\n",
    "        Animal.__init__(self,\"Dog\")\n",
    "        super().__init__(\"Dog\")\n",
    "        print(\"In Child Class\")\n",
    "        pass\n",
    "    def bite(self):\n",
    "        print(\"Bite\")\n",
    "        \n",
    "    def bark(self):\n",
    "        print(\"Barks\")"
   ]
  },
  {
   "cell_type": "code",
   "execution_count": 60,
   "id": "7e55c497",
   "metadata": {},
   "outputs": [
    {
     "name": "stdout",
     "output_type": "stream",
     "text": [
      "I am In Animal Class\n",
      "In Child Class\n"
     ]
    }
   ],
   "source": [
    "d1 = Dog()"
   ]
  },
  {
   "cell_type": "code",
   "execution_count": 69,
   "id": "5c9fcf97",
   "metadata": {},
   "outputs": [],
   "source": [
    "class Maths:\n",
    "    def __init__(self, a, b):\n",
    "        print(\"Hello I am in Maths\")\n",
    "        self.a = a\n",
    "        self.b = b\n",
    "    def getA(self):\n",
    "        return self.a\n",
    "    def getB(self):\n",
    "        return self.b\n",
    "class Addition(Maths):\n",
    "    def __init__(self, a, b):\n",
    "        print(\"I am In Addition\")\n",
    "        super().__init__(a,b)\n",
    "    def add(self):\n",
    "        return self.a+self.b\n",
    "class Subtraction(Maths):\n",
    "    def __init__(self, a, b):\n",
    "        print(\"I am in Subtraction\")\n",
    "        super().__init__(a,b)\n",
    "    def sub(self):\n",
    "        return self.a-self.b\n",
    "class Average(Addition):\n",
    "    def __init__(self,a,b):\n",
    "        super().__init__(a,b)\n",
    "    def average(self):\n",
    "        return self.add()/2"
   ]
  },
  {
   "cell_type": "code",
   "execution_count": 72,
   "id": "c6db0096",
   "metadata": {},
   "outputs": [],
   "source": [
    "# (A-B)**2\n",
    "class AB2(Addition, Subtraction):\n",
    "    def __init__(self, a,b):\n",
    "        super().__init__(a,b)\n",
    "    def calcAMinusBSquare(self):\n",
    "        return self.a**2+self.b**2-2*self.a*self.b"
   ]
  },
  {
   "cell_type": "code",
   "execution_count": 73,
   "id": "615ba600",
   "metadata": {},
   "outputs": [
    {
     "name": "stdout",
     "output_type": "stream",
     "text": [
      "I am In Addition\n",
      "I am in Subtraction\n",
      "Hello I am in Maths\n"
     ]
    }
   ],
   "source": [
    "ab = AB2(6,8) # Even though It is designed to exeucte, Maths class\n",
    "#__init__ multiple times, But python intelligently executes only once\n",
    "# This is called as Diamond Problem"
   ]
  },
  {
   "cell_type": "code",
   "execution_count": 74,
   "id": "fab9cfa0",
   "metadata": {},
   "outputs": [
    {
     "data": {
      "text/plain": [
       "4"
      ]
     },
     "execution_count": 74,
     "metadata": {},
     "output_type": "execute_result"
    }
   ],
   "source": [
    "ab.calcAMinusBSquare()"
   ]
  },
  {
   "cell_type": "code",
   "execution_count": 62,
   "id": "ddcf7de9",
   "metadata": {},
   "outputs": [],
   "source": [
    "avg = Average(5,10)"
   ]
  },
  {
   "cell_type": "code",
   "execution_count": 64,
   "id": "fe1efb09",
   "metadata": {},
   "outputs": [
    {
     "data": {
      "text/plain": [
       "10"
      ]
     },
     "execution_count": 64,
     "metadata": {},
     "output_type": "execute_result"
    }
   ],
   "source": [
    "avg.b"
   ]
  },
  {
   "cell_type": "code",
   "execution_count": 65,
   "id": "fd5e2abf",
   "metadata": {},
   "outputs": [
    {
     "data": {
      "text/plain": [
       "7.5"
      ]
     },
     "execution_count": 65,
     "metadata": {},
     "output_type": "execute_result"
    }
   ],
   "source": [
    "avg.average()"
   ]
  },
  {
   "cell_type": "code",
   "execution_count": 80,
   "id": "0c4bd311",
   "metadata": {},
   "outputs": [],
   "source": [
    "class Tiger(Animal):\n",
    "    def hunt(self):\n",
    "        print(\"Tiger is Hunting\")\n",
    "class Lion(Animal):\n",
    "    def hunt(self):\n",
    "        print(\"Lion is Hunting\")\n",
    "        \n",
    "class Liger(Tiger, Lion):\n",
    "    def fight(self):\n",
    "        print(\"Liger is Fighting\")"
   ]
  },
  {
   "cell_type": "code",
   "execution_count": 81,
   "id": "6b4b06b6",
   "metadata": {},
   "outputs": [
    {
     "name": "stdout",
     "output_type": "stream",
     "text": [
      "I am In Animal Class\n"
     ]
    }
   ],
   "source": [
    "l1 = Liger(\"MachineLearning\")"
   ]
  },
  {
   "cell_type": "code",
   "execution_count": 82,
   "id": "2381b4d7",
   "metadata": {},
   "outputs": [
    {
     "name": "stdout",
     "output_type": "stream",
     "text": [
      "Liger is Fighting\n"
     ]
    }
   ],
   "source": [
    "l1.fight()"
   ]
  },
  {
   "cell_type": "code",
   "execution_count": 83,
   "id": "43839617",
   "metadata": {},
   "outputs": [
    {
     "name": "stdout",
     "output_type": "stream",
     "text": [
      "Tiger is Hunting\n"
     ]
    }
   ],
   "source": [
    "l1.hunt()"
   ]
  },
  {
   "cell_type": "code",
   "execution_count": 84,
   "id": "7ad75a40",
   "metadata": {},
   "outputs": [
    {
     "data": {
      "text/plain": [
       "[__main__.Liger, __main__.Tiger, __main__.Lion, __main__.Animal, object]"
      ]
     },
     "execution_count": 84,
     "metadata": {},
     "output_type": "execute_result"
    }
   ],
   "source": [
    "Liger.mro()"
   ]
  },
  {
   "cell_type": "code",
   "execution_count": 85,
   "id": "aea044a3",
   "metadata": {},
   "outputs": [
    {
     "data": {
      "text/plain": [
       "(__main__.Liger, __main__.Tiger, __main__.Lion, __main__.Animal, object)"
      ]
     },
     "execution_count": 85,
     "metadata": {},
     "output_type": "execute_result"
    }
   ],
   "source": [
    "Liger.__mro__"
   ]
  },
  {
   "cell_type": "markdown",
   "id": "bf501597",
   "metadata": {},
   "source": [
    "## Encapsulation"
   ]
  },
  {
   "cell_type": "markdown",
   "id": "e326e2d9",
   "metadata": {},
   "source": [
    "# Three Kinds of Encapsulation\n",
    "1. public\n",
    "2. protected\n",
    "3. private"
   ]
  },
  {
   "cell_type": "code",
   "execution_count": 1,
   "id": "7ac1a650",
   "metadata": {},
   "outputs": [],
   "source": [
    "# public \n",
    "# Public => No Underscores\n",
    "class EncapEx1:\n",
    "    def __init__(self):\n",
    "        self.a = 10\n",
    "en1 = EncapEx1()"
   ]
  },
  {
   "cell_type": "code",
   "execution_count": 2,
   "id": "375fefd4",
   "metadata": {},
   "outputs": [
    {
     "data": {
      "text/plain": [
       "10"
      ]
     },
     "execution_count": 2,
     "metadata": {},
     "output_type": "execute_result"
    }
   ],
   "source": [
    "en1.a"
   ]
  },
  {
   "cell_type": "code",
   "execution_count": 3,
   "id": "969772c9",
   "metadata": {},
   "outputs": [
    {
     "data": {
      "text/plain": [
       "10"
      ]
     },
     "execution_count": 3,
     "metadata": {},
     "output_type": "execute_result"
    }
   ],
   "source": [
    "# protected => Child Class Objects, And Objects of the class can access\n",
    "# Protected => Single Underscore\n",
    "class EncapEx2:\n",
    "    def __init__(self):\n",
    "        self._a = 10\n",
    "en2 = EncapEx2()\n",
    "en2._a"
   ]
  },
  {
   "cell_type": "code",
   "execution_count": 4,
   "id": "daf662f2",
   "metadata": {},
   "outputs": [
    {
     "ename": "AttributeError",
     "evalue": "'EncapEx3' object has no attribute '__a'",
     "output_type": "error",
     "traceback": [
      "\u001b[1;31m---------------------------------------------------------------------------\u001b[0m",
      "\u001b[1;31mAttributeError\u001b[0m                            Traceback (most recent call last)",
      "Cell \u001b[1;32mIn[4], line 7\u001b[0m\n\u001b[0;32m      5\u001b[0m         \u001b[38;5;28mself\u001b[39m\u001b[38;5;241m.\u001b[39m__a \u001b[38;5;241m=\u001b[39m \u001b[38;5;241m10\u001b[39m\n\u001b[0;32m      6\u001b[0m en3 \u001b[38;5;241m=\u001b[39m EncapEx3()\n\u001b[1;32m----> 7\u001b[0m en3\u001b[38;5;241m.\u001b[39m__a\n",
      "\u001b[1;31mAttributeError\u001b[0m: 'EncapEx3' object has no attribute '__a'"
     ]
    }
   ],
   "source": [
    "# private=> Only members of the class can access. \n",
    "# Private =>> Two Underscores\n",
    "class EncapEx3:\n",
    "    def __init__(self):\n",
    "        self.__a = 10\n",
    "en3 = EncapEx3()\n",
    "en3.__a"
   ]
  },
  {
   "cell_type": "code",
   "execution_count": 22,
   "id": "f5e233a2",
   "metadata": {},
   "outputs": [],
   "source": [
    "class Animal:\n",
    "    def __init__(self, name):\n",
    "        self.name = name\n",
    "        self._type = \"Animal\"\n",
    "    \n",
    "    def eat(self):\n",
    "        # Public Method\n",
    "        print(\"Animal is Eating\")\n",
    "        \n",
    "    def _sleep(self):\n",
    "        # Protected Method\n",
    "        print(\"Sleeping\")\n",
    "    \n",
    "    def __walk(self):\n",
    "        \"\"\"\n",
    "        This is a Walk Help Documentation String\n",
    "        \"\"\"\n",
    "        # Private\n",
    "        print(\"Walking\")\n",
    "\n",
    "    def takeWalk(self):\n",
    "        self.__walk()\n",
    "        \n",
    "class Lion(Animal):\n",
    "    def __init__(self, name, breed):\n",
    "        self.name = name\n",
    "        self.__breed = breed\n",
    "    \n",
    "    def __hunt(self):\n",
    "        print(\"Hunting\")\n",
    "        \n",
    "    def goHunt(self):\n",
    "        self.__hunt()\n",
    "        \n",
    "    def getBreed(self):\n",
    "        return self.__breed"
   ]
  },
  {
   "cell_type": "code",
   "execution_count": 13,
   "id": "3e73db42",
   "metadata": {},
   "outputs": [],
   "source": [
    "a = Animal(\"Deer\")\n",
    "l = Lion(\"King\",\"Indian\")"
   ]
  },
  {
   "cell_type": "code",
   "execution_count": 7,
   "id": "9f3340e7",
   "metadata": {},
   "outputs": [
    {
     "name": "stdout",
     "output_type": "stream",
     "text": [
      "Animal is Eating\n"
     ]
    }
   ],
   "source": [
    "a.eat()"
   ]
  },
  {
   "cell_type": "code",
   "execution_count": 8,
   "id": "231168c3",
   "metadata": {},
   "outputs": [
    {
     "name": "stdout",
     "output_type": "stream",
     "text": [
      "Sleeping\n"
     ]
    }
   ],
   "source": [
    "a._sleep()"
   ]
  },
  {
   "cell_type": "code",
   "execution_count": 9,
   "id": "3580154e",
   "metadata": {},
   "outputs": [
    {
     "ename": "AttributeError",
     "evalue": "'Animal' object has no attribute '__walk'",
     "output_type": "error",
     "traceback": [
      "\u001b[1;31m---------------------------------------------------------------------------\u001b[0m",
      "\u001b[1;31mAttributeError\u001b[0m                            Traceback (most recent call last)",
      "Cell \u001b[1;32mIn[9], line 1\u001b[0m\n\u001b[1;32m----> 1\u001b[0m a\u001b[38;5;241m.\u001b[39m__walk()\n",
      "\u001b[1;31mAttributeError\u001b[0m: 'Animal' object has no attribute '__walk'"
     ]
    }
   ],
   "source": [
    "a.__walk()"
   ]
  },
  {
   "cell_type": "code",
   "execution_count": 10,
   "id": "80640668",
   "metadata": {},
   "outputs": [
    {
     "name": "stdout",
     "output_type": "stream",
     "text": [
      "Walking\n"
     ]
    }
   ],
   "source": [
    "a.takeWalk()"
   ]
  },
  {
   "cell_type": "code",
   "execution_count": 15,
   "id": "791bd915",
   "metadata": {},
   "outputs": [
    {
     "ename": "AttributeError",
     "evalue": "'Lion' object has no attribute '__breed'",
     "output_type": "error",
     "traceback": [
      "\u001b[1;31m---------------------------------------------------------------------------\u001b[0m",
      "\u001b[1;31mAttributeError\u001b[0m                            Traceback (most recent call last)",
      "Cell \u001b[1;32mIn[15], line 1\u001b[0m\n\u001b[1;32m----> 1\u001b[0m l\u001b[38;5;241m.\u001b[39m__breed\n",
      "\u001b[1;31mAttributeError\u001b[0m: 'Lion' object has no attribute '__breed'"
     ]
    }
   ],
   "source": [
    "l.__breed"
   ]
  },
  {
   "cell_type": "code",
   "execution_count": 14,
   "id": "079128e4",
   "metadata": {},
   "outputs": [
    {
     "data": {
      "text/plain": [
       "'Indian'"
      ]
     },
     "execution_count": 14,
     "metadata": {},
     "output_type": "execute_result"
    }
   ],
   "source": [
    "l.getBreed()"
   ]
  },
  {
   "cell_type": "code",
   "execution_count": 16,
   "id": "2c16c725",
   "metadata": {},
   "outputs": [
    {
     "ename": "AttributeError",
     "evalue": "'Lion' object has no attribute '__hunt'",
     "output_type": "error",
     "traceback": [
      "\u001b[1;31m---------------------------------------------------------------------------\u001b[0m",
      "\u001b[1;31mAttributeError\u001b[0m                            Traceback (most recent call last)",
      "Cell \u001b[1;32mIn[16], line 1\u001b[0m\n\u001b[1;32m----> 1\u001b[0m l\u001b[38;5;241m.\u001b[39m__hunt()\n",
      "\u001b[1;31mAttributeError\u001b[0m: 'Lion' object has no attribute '__hunt'"
     ]
    }
   ],
   "source": [
    "l.__hunt()"
   ]
  },
  {
   "cell_type": "code",
   "execution_count": 17,
   "id": "91dc27e7",
   "metadata": {},
   "outputs": [
    {
     "name": "stdout",
     "output_type": "stream",
     "text": [
      "Hunting\n"
     ]
    }
   ],
   "source": [
    "l.goHunt()"
   ]
  },
  {
   "cell_type": "code",
   "execution_count": 18,
   "id": "cc805997",
   "metadata": {},
   "outputs": [
    {
     "name": "stdout",
     "output_type": "stream",
     "text": [
      "Sleeping\n"
     ]
    }
   ],
   "source": [
    "l._sleep()"
   ]
  },
  {
   "cell_type": "code",
   "execution_count": 19,
   "id": "cc4a653a",
   "metadata": {},
   "outputs": [
    {
     "ename": "AttributeError",
     "evalue": "'Lion' object has no attribute '__walk'",
     "output_type": "error",
     "traceback": [
      "\u001b[1;31m---------------------------------------------------------------------------\u001b[0m",
      "\u001b[1;31mAttributeError\u001b[0m                            Traceback (most recent call last)",
      "Cell \u001b[1;32mIn[19], line 1\u001b[0m\n\u001b[1;32m----> 1\u001b[0m l\u001b[38;5;241m.\u001b[39m__walk()\n",
      "\u001b[1;31mAttributeError\u001b[0m: 'Lion' object has no attribute '__walk'"
     ]
    }
   ],
   "source": [
    "l.__walk()"
   ]
  },
  {
   "cell_type": "code",
   "execution_count": null,
   "id": "7a9579f2",
   "metadata": {},
   "outputs": [],
   "source": [
    "# Public => Can be accessed by anyone\n",
    "# Protected => Can be accessed by objects of the same class,\n",
    "#               Child class methods, Child Class Objects\n",
    "# Private => Only Class Members can access the Private"
   ]
  },
  {
   "cell_type": "code",
   "execution_count": 23,
   "id": "1d953d06",
   "metadata": {},
   "outputs": [
    {
     "name": "stdout",
     "output_type": "stream",
     "text": [
      "Help on class Animal in module __main__:\n",
      "\n",
      "class Animal(builtins.object)\n",
      " |  Animal(name)\n",
      " |  \n",
      " |  Methods defined here:\n",
      " |  \n",
      " |  __init__(self, name)\n",
      " |      Initialize self.  See help(type(self)) for accurate signature.\n",
      " |  \n",
      " |  eat(self)\n",
      " |  \n",
      " |  takeWalk(self)\n",
      " |  \n",
      " |  ----------------------------------------------------------------------\n",
      " |  Data descriptors defined here:\n",
      " |  \n",
      " |  __dict__\n",
      " |      dictionary for instance variables (if defined)\n",
      " |  \n",
      " |  __weakref__\n",
      " |      list of weak references to the object (if defined)\n",
      "\n"
     ]
    }
   ],
   "source": [
    "help(Animal) # documentation won't display protected and private members"
   ]
  },
  {
   "cell_type": "code",
   "execution_count": 25,
   "id": "9f390acb",
   "metadata": {},
   "outputs": [
    {
     "data": {
      "text/plain": [
       "['_Animal__walk',\n",
       " '__class__',\n",
       " '__delattr__',\n",
       " '__dict__',\n",
       " '__dir__',\n",
       " '__doc__',\n",
       " '__eq__',\n",
       " '__format__',\n",
       " '__ge__',\n",
       " '__getattribute__',\n",
       " '__getstate__',\n",
       " '__gt__',\n",
       " '__hash__',\n",
       " '__init__',\n",
       " '__init_subclass__',\n",
       " '__le__',\n",
       " '__lt__',\n",
       " '__module__',\n",
       " '__ne__',\n",
       " '__new__',\n",
       " '__reduce__',\n",
       " '__reduce_ex__',\n",
       " '__repr__',\n",
       " '__setattr__',\n",
       " '__sizeof__',\n",
       " '__str__',\n",
       " '__subclasshook__',\n",
       " '__weakref__',\n",
       " '_sleep',\n",
       " '_type',\n",
       " 'eat',\n",
       " 'name',\n",
       " 'takeWalk']"
      ]
     },
     "execution_count": 25,
     "metadata": {},
     "output_type": "execute_result"
    }
   ],
   "source": [
    "# Note:\n",
    "# Even though Encapsulation adds Security, but python is not secure Enough \n",
    "dir(a)"
   ]
  },
  {
   "cell_type": "code",
   "execution_count": 26,
   "id": "5ec8e095",
   "metadata": {},
   "outputs": [
    {
     "name": "stdout",
     "output_type": "stream",
     "text": [
      "Walking\n"
     ]
    }
   ],
   "source": [
    "a._Animal__walk()"
   ]
  },
  {
   "cell_type": "code",
   "execution_count": 27,
   "id": "b726f847",
   "metadata": {},
   "outputs": [
    {
     "data": {
      "text/plain": [
       "'Indian'"
      ]
     },
     "execution_count": 27,
     "metadata": {},
     "output_type": "execute_result"
    }
   ],
   "source": [
    "l._Lion__breed"
   ]
  },
  {
   "cell_type": "code",
   "execution_count": null,
   "id": "2d4d4184",
   "metadata": {},
   "outputs": [],
   "source": [
    "<object>._<ClassName>__<Attribute/Method>"
   ]
  },
  {
   "cell_type": "code",
   "execution_count": 28,
   "id": "7449d7be",
   "metadata": {},
   "outputs": [
    {
     "data": {
      "text/plain": [
       "{'name': 'Deer', '_type': 'Animal'}"
      ]
     },
     "execution_count": 28,
     "metadata": {},
     "output_type": "execute_result"
    }
   ],
   "source": [
    "a.__dict__ # All Variables Defined inside Object"
   ]
  },
  {
   "cell_type": "code",
   "execution_count": 30,
   "id": "a0946e90",
   "metadata": {},
   "outputs": [
    {
     "data": {
      "text/plain": [
       "{'name': 'King', '_Lion__breed': 'Indian'}"
      ]
     },
     "execution_count": 30,
     "metadata": {},
     "output_type": "execute_result"
    }
   ],
   "source": [
    "l.__dict__"
   ]
  },
  {
   "cell_type": "markdown",
   "id": "73755ba5",
   "metadata": {},
   "source": [
    "## Class Variables"
   ]
  },
  {
   "cell_type": "code",
   "execution_count": 31,
   "id": "e3cb7af5",
   "metadata": {},
   "outputs": [],
   "source": [
    "class Chair:\n",
    "    def __init__(self):\n",
    "        self.brand = \"Cello\""
   ]
  },
  {
   "cell_type": "code",
   "execution_count": 32,
   "id": "11e15445",
   "metadata": {},
   "outputs": [],
   "source": [
    "c1 = Chair()\n",
    "c2 = Chair()"
   ]
  },
  {
   "cell_type": "code",
   "execution_count": 33,
   "id": "3c0654cf",
   "metadata": {},
   "outputs": [
    {
     "data": {
      "text/plain": [
       "'Cello'"
      ]
     },
     "execution_count": 33,
     "metadata": {},
     "output_type": "execute_result"
    }
   ],
   "source": [
    "c1.brand"
   ]
  },
  {
   "cell_type": "code",
   "execution_count": 34,
   "id": "59eac741",
   "metadata": {},
   "outputs": [
    {
     "data": {
      "text/plain": [
       "'Cello'"
      ]
     },
     "execution_count": 34,
     "metadata": {},
     "output_type": "execute_result"
    }
   ],
   "source": [
    "c2.brand"
   ]
  },
  {
   "cell_type": "code",
   "execution_count": 36,
   "id": "9564f0cb",
   "metadata": {},
   "outputs": [],
   "source": [
    "class Chair:\n",
    "    # Class Variable\n",
    "    # For Class Variable Don't use self\n",
    "    brand = \"Cello\""
   ]
  },
  {
   "cell_type": "code",
   "execution_count": 37,
   "id": "602fe3c4",
   "metadata": {},
   "outputs": [],
   "source": [
    "c1 = Chair()\n",
    "c2 = Chair()\n",
    "c3 = Chair()"
   ]
  },
  {
   "cell_type": "code",
   "execution_count": 38,
   "id": "72207c22",
   "metadata": {},
   "outputs": [
    {
     "data": {
      "text/plain": [
       "'Cello'"
      ]
     },
     "execution_count": 38,
     "metadata": {},
     "output_type": "execute_result"
    }
   ],
   "source": [
    "c1.brand"
   ]
  },
  {
   "cell_type": "code",
   "execution_count": 39,
   "id": "9bb60c55",
   "metadata": {},
   "outputs": [],
   "source": [
    "c2.brand = \"Nilkamal\""
   ]
  },
  {
   "cell_type": "code",
   "execution_count": 40,
   "id": "a5983dcc",
   "metadata": {},
   "outputs": [
    {
     "data": {
      "text/plain": [
       "'Cello'"
      ]
     },
     "execution_count": 40,
     "metadata": {},
     "output_type": "execute_result"
    }
   ],
   "source": [
    "c1.brand"
   ]
  },
  {
   "cell_type": "code",
   "execution_count": 43,
   "id": "a5d0b09e",
   "metadata": {},
   "outputs": [
    {
     "data": {
      "text/plain": [
       "'Nilkamal'"
      ]
     },
     "execution_count": 43,
     "metadata": {},
     "output_type": "execute_result"
    }
   ],
   "source": [
    "c2.brand # New Instance Variable"
   ]
  },
  {
   "cell_type": "code",
   "execution_count": 42,
   "id": "e3d1d4e7",
   "metadata": {},
   "outputs": [
    {
     "data": {
      "text/plain": [
       "'Cello'"
      ]
     },
     "execution_count": 42,
     "metadata": {},
     "output_type": "execute_result"
    }
   ],
   "source": [
    "c3.brand"
   ]
  },
  {
   "cell_type": "code",
   "execution_count": 44,
   "id": "8b282210",
   "metadata": {},
   "outputs": [],
   "source": [
    "c3.name = \"Kings Throne\""
   ]
  },
  {
   "cell_type": "code",
   "execution_count": 45,
   "id": "cc5d8bfe",
   "metadata": {},
   "outputs": [
    {
     "data": {
      "text/plain": [
       "'Kings Throne'"
      ]
     },
     "execution_count": 45,
     "metadata": {},
     "output_type": "execute_result"
    }
   ],
   "source": [
    "c3.name"
   ]
  },
  {
   "cell_type": "code",
   "execution_count": 46,
   "id": "32aa09da",
   "metadata": {},
   "outputs": [
    {
     "ename": "AttributeError",
     "evalue": "'Chair' object has no attribute 'name'",
     "output_type": "error",
     "traceback": [
      "\u001b[1;31m---------------------------------------------------------------------------\u001b[0m",
      "\u001b[1;31mAttributeError\u001b[0m                            Traceback (most recent call last)",
      "Cell \u001b[1;32mIn[46], line 1\u001b[0m\n\u001b[1;32m----> 1\u001b[0m c1\u001b[38;5;241m.\u001b[39mname\n",
      "\u001b[1;31mAttributeError\u001b[0m: 'Chair' object has no attribute 'name'"
     ]
    }
   ],
   "source": [
    "c1.name"
   ]
  },
  {
   "cell_type": "code",
   "execution_count": 47,
   "id": "5c38ccd0",
   "metadata": {},
   "outputs": [
    {
     "data": {
      "text/plain": [
       "'Cello'"
      ]
     },
     "execution_count": 47,
     "metadata": {},
     "output_type": "execute_result"
    }
   ],
   "source": [
    "Chair.brand"
   ]
  },
  {
   "cell_type": "code",
   "execution_count": 49,
   "id": "f214351e",
   "metadata": {},
   "outputs": [],
   "source": [
    "Chair.brand = \"WakeFit\""
   ]
  },
  {
   "cell_type": "code",
   "execution_count": 50,
   "id": "773bb1c4",
   "metadata": {},
   "outputs": [
    {
     "data": {
      "text/plain": [
       "'WakeFit'"
      ]
     },
     "execution_count": 50,
     "metadata": {},
     "output_type": "execute_result"
    }
   ],
   "source": [
    "c1.brand"
   ]
  },
  {
   "cell_type": "code",
   "execution_count": 51,
   "id": "fd636b4f",
   "metadata": {},
   "outputs": [
    {
     "data": {
      "text/plain": [
       "'Nilkamal'"
      ]
     },
     "execution_count": 51,
     "metadata": {},
     "output_type": "execute_result"
    }
   ],
   "source": [
    "c2.brand"
   ]
  },
  {
   "cell_type": "code",
   "execution_count": 52,
   "id": "c2c7eb8c",
   "metadata": {},
   "outputs": [
    {
     "data": {
      "text/plain": [
       "'WakeFit'"
      ]
     },
     "execution_count": 52,
     "metadata": {},
     "output_type": "execute_result"
    }
   ],
   "source": [
    "c3.brand"
   ]
  },
  {
   "cell_type": "markdown",
   "id": "4ec0d863",
   "metadata": {},
   "source": [
    "## Class Methods"
   ]
  },
  {
   "cell_type": "code",
   "execution_count": 53,
   "id": "6adacf42",
   "metadata": {},
   "outputs": [],
   "source": [
    "## Class Methods are used to Handle Class Variables"
   ]
  },
  {
   "cell_type": "code",
   "execution_count": null,
   "id": "c8cd65fb",
   "metadata": {},
   "outputs": [],
   "source": [
    "# cls => Should be the first parameter for\n",
    "# Class Methods, => PlaceHolder for class names"
   ]
  },
  {
   "cell_type": "code",
   "execution_count": 59,
   "id": "0de6c0e4",
   "metadata": {},
   "outputs": [],
   "source": [
    "class Chair:\n",
    "    # Class Variable\n",
    "    # For Class Variable Don't use self\n",
    "    brand = \"Cello\"\n",
    "    \n",
    "    @classmethod\n",
    "    def getBrand(cls):\n",
    "        return cls.brand\n",
    "    \n",
    "    @classmethod\n",
    "    def setBrand(cls,newbrand):\n",
    "        cls.brand = newbrand\n",
    "    "
   ]
  },
  {
   "cell_type": "code",
   "execution_count": 60,
   "id": "2c323acf",
   "metadata": {},
   "outputs": [],
   "source": [
    "c4 = Chair()\n",
    "c5 = Chair()\n",
    "c6 = Chair()"
   ]
  },
  {
   "cell_type": "code",
   "execution_count": 56,
   "id": "fc3e4ccc",
   "metadata": {},
   "outputs": [
    {
     "data": {
      "text/plain": [
       "'Cello'"
      ]
     },
     "execution_count": 56,
     "metadata": {},
     "output_type": "execute_result"
    }
   ],
   "source": [
    "c4.brand"
   ]
  },
  {
   "cell_type": "code",
   "execution_count": 57,
   "id": "cc7dc57c",
   "metadata": {},
   "outputs": [
    {
     "data": {
      "text/plain": [
       "'Cello'"
      ]
     },
     "execution_count": 57,
     "metadata": {},
     "output_type": "execute_result"
    }
   ],
   "source": [
    "Chair.brand"
   ]
  },
  {
   "cell_type": "code",
   "execution_count": 58,
   "id": "f3a5a5a1",
   "metadata": {},
   "outputs": [
    {
     "data": {
      "text/plain": [
       "'Cello'"
      ]
     },
     "execution_count": 58,
     "metadata": {},
     "output_type": "execute_result"
    }
   ],
   "source": [
    "c4.getBrand()"
   ]
  },
  {
   "cell_type": "code",
   "execution_count": null,
   "id": "c3ce3eb0",
   "metadata": {},
   "outputs": [],
   "source": [
    "# classmethod is a decorator\n",
    "## decorator : decorator is a function, which takes\n",
    "# another function as argument and returns a new function. "
   ]
  },
  {
   "cell_type": "code",
   "execution_count": 61,
   "id": "a025985a",
   "metadata": {},
   "outputs": [
    {
     "data": {
      "text/plain": [
       "'Cello'"
      ]
     },
     "execution_count": 61,
     "metadata": {},
     "output_type": "execute_result"
    }
   ],
   "source": [
    "c4.getBrand()"
   ]
  },
  {
   "cell_type": "code",
   "execution_count": 64,
   "id": "05b424e9",
   "metadata": {},
   "outputs": [],
   "source": [
    "c4.setBrand(\"Nilkamal\")"
   ]
  },
  {
   "cell_type": "code",
   "execution_count": 65,
   "id": "34c6c1b5",
   "metadata": {},
   "outputs": [
    {
     "data": {
      "text/plain": [
       "'Nilkamal'"
      ]
     },
     "execution_count": 65,
     "metadata": {},
     "output_type": "execute_result"
    }
   ],
   "source": [
    "c4.brand"
   ]
  },
  {
   "cell_type": "code",
   "execution_count": 66,
   "id": "b9002ec0",
   "metadata": {},
   "outputs": [
    {
     "data": {
      "text/plain": [
       "'Nilkamal'"
      ]
     },
     "execution_count": 66,
     "metadata": {},
     "output_type": "execute_result"
    }
   ],
   "source": [
    "c5.brand"
   ]
  },
  {
   "cell_type": "code",
   "execution_count": 67,
   "id": "fd40305b",
   "metadata": {},
   "outputs": [
    {
     "data": {
      "text/plain": [
       "'Nilkamal'"
      ]
     },
     "execution_count": 67,
     "metadata": {},
     "output_type": "execute_result"
    }
   ],
   "source": [
    "c6.brand"
   ]
  },
  {
   "cell_type": "code",
   "execution_count": 68,
   "id": "1ff64fd5",
   "metadata": {},
   "outputs": [],
   "source": [
    "Chair.brand = \"Suresh\""
   ]
  },
  {
   "cell_type": "code",
   "execution_count": 69,
   "id": "4b3ccca2",
   "metadata": {},
   "outputs": [
    {
     "data": {
      "text/plain": [
       "'Suresh'"
      ]
     },
     "execution_count": 69,
     "metadata": {},
     "output_type": "execute_result"
    }
   ],
   "source": [
    "c4.brand"
   ]
  },
  {
   "cell_type": "code",
   "execution_count": 70,
   "id": "b5bf8e6d",
   "metadata": {},
   "outputs": [
    {
     "data": {
      "text/plain": [
       "'Suresh'"
      ]
     },
     "execution_count": 70,
     "metadata": {},
     "output_type": "execute_result"
    }
   ],
   "source": [
    "c5.brand"
   ]
  },
  {
   "cell_type": "code",
   "execution_count": 71,
   "id": "4554bf6d",
   "metadata": {},
   "outputs": [
    {
     "data": {
      "text/plain": [
       "'Suresh'"
      ]
     },
     "execution_count": 71,
     "metadata": {},
     "output_type": "execute_result"
    }
   ],
   "source": [
    "c6.brand"
   ]
  },
  {
   "cell_type": "code",
   "execution_count": 72,
   "id": "f4f6ce07",
   "metadata": {},
   "outputs": [],
   "source": [
    "c5.setBrand(\"Cello\") # Chair.brand = \"Cello\""
   ]
  },
  {
   "cell_type": "code",
   "execution_count": 73,
   "id": "42b773da",
   "metadata": {},
   "outputs": [
    {
     "data": {
      "text/plain": [
       "'Cello'"
      ]
     },
     "execution_count": 73,
     "metadata": {},
     "output_type": "execute_result"
    }
   ],
   "source": [
    "c4.getBrand()"
   ]
  },
  {
   "cell_type": "code",
   "execution_count": 74,
   "id": "ce9d223e",
   "metadata": {},
   "outputs": [
    {
     "data": {
      "text/plain": [
       "'Cello'"
      ]
     },
     "execution_count": 74,
     "metadata": {},
     "output_type": "execute_result"
    }
   ],
   "source": [
    "Chair.brand"
   ]
  },
  {
   "cell_type": "code",
   "execution_count": 75,
   "id": "699aad15",
   "metadata": {},
   "outputs": [
    {
     "data": {
      "text/plain": [
       "'Cello'"
      ]
     },
     "execution_count": 75,
     "metadata": {},
     "output_type": "execute_result"
    }
   ],
   "source": [
    "c5.brand"
   ]
  },
  {
   "cell_type": "code",
   "execution_count": 76,
   "id": "809e012c",
   "metadata": {},
   "outputs": [
    {
     "data": {
      "text/plain": [
       "'Cello'"
      ]
     },
     "execution_count": 76,
     "metadata": {},
     "output_type": "execute_result"
    }
   ],
   "source": [
    "c6.brand"
   ]
  },
  {
   "cell_type": "code",
   "execution_count": 77,
   "id": "8bc0d628",
   "metadata": {},
   "outputs": [],
   "source": [
    "Chair.location = \"Hyderabad\""
   ]
  },
  {
   "cell_type": "code",
   "execution_count": 78,
   "id": "40d0d734",
   "metadata": {},
   "outputs": [
    {
     "data": {
      "text/plain": [
       "'Hyderabad'"
      ]
     },
     "execution_count": 78,
     "metadata": {},
     "output_type": "execute_result"
    }
   ],
   "source": [
    "c4.location"
   ]
  },
  {
   "cell_type": "code",
   "execution_count": 81,
   "id": "8bdae053",
   "metadata": {},
   "outputs": [
    {
     "data": {
      "text/plain": [
       "'Hyderabad'"
      ]
     },
     "execution_count": 81,
     "metadata": {},
     "output_type": "execute_result"
    }
   ],
   "source": [
    "c5.location"
   ]
  },
  {
   "cell_type": "code",
   "execution_count": 79,
   "id": "1b36e1ab",
   "metadata": {},
   "outputs": [],
   "source": [
    "c5.ceo = \"Suresh\""
   ]
  },
  {
   "cell_type": "code",
   "execution_count": 80,
   "id": "65474ba9",
   "metadata": {},
   "outputs": [
    {
     "ename": "AttributeError",
     "evalue": "'Chair' object has no attribute 'ceo'",
     "output_type": "error",
     "traceback": [
      "\u001b[1;31m---------------------------------------------------------------------------\u001b[0m",
      "\u001b[1;31mAttributeError\u001b[0m                            Traceback (most recent call last)",
      "Cell \u001b[1;32mIn[80], line 1\u001b[0m\n\u001b[1;32m----> 1\u001b[0m c6\u001b[38;5;241m.\u001b[39mceo\n",
      "\u001b[1;31mAttributeError\u001b[0m: 'Chair' object has no attribute 'ceo'"
     ]
    }
   ],
   "source": [
    "c6.ceo"
   ]
  },
  {
   "cell_type": "code",
   "execution_count": null,
   "id": "316a5a82",
   "metadata": {},
   "outputs": [],
   "source": [
    "## Class Variables are Common for All the Objects.\n",
    "#To handle Class Variables use Class Methods. or Class Name itself. \n",
    "# Instance variables are specific to objects. "
   ]
  },
  {
   "cell_type": "code",
   "execution_count": null,
   "id": "59fc2743",
   "metadata": {},
   "outputs": [],
   "source": [
    "# Static Methods, Abstraction, Project Discussion,\n",
    "## Tax Calculation UI (user Interface)"
   ]
  }
 ],
 "metadata": {
  "kernelspec": {
   "display_name": "Python 3 (ipykernel)",
   "language": "python",
   "name": "python3"
  },
  "language_info": {
   "codemirror_mode": {
    "name": "ipython",
    "version": 3
   },
   "file_extension": ".py",
   "mimetype": "text/x-python",
   "name": "python",
   "nbconvert_exporter": "python",
   "pygments_lexer": "ipython3",
   "version": "3.11.4"
  }
 },
 "nbformat": 4,
 "nbformat_minor": 5
}
