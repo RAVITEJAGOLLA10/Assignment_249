{
 "cells": [
  {
   "cell_type": "code",
   "execution_count": 1,
   "id": "f2db8389",
   "metadata": {},
   "outputs": [],
   "source": [
    "import pandas as pd\n",
    "import matplotlib.pyplot as plt"
   ]
  },
  {
   "cell_type": "markdown",
   "id": "17374ec9",
   "metadata": {},
   "source": [
    "## Scatter Plot using Matplotlib"
   ]
  },
  {
   "cell_type": "code",
   "execution_count": null,
   "id": "eb6a0156",
   "metadata": {},
   "outputs": [],
   "source": [
    "plt.scatter(df_sales[\"Total_Revenue\"],df_sales[\"Total_Cost\"], label=\"Total_Revenue vs Total_Cost\", edgecolors=\"y\",marker=\"p\")\n",
    "plt.title(\"Total_Revenue vs Total_Cost\")\n",
    "plt.xlabel(\"Total_Revenue\")\n",
    "plt.ylabel(\"Total_Cost\")\n",
    "plt.legend()\n",
    "plt.grid()\n",
    "plt.show()\n"
   ]
  },
  {
   "cell_type": "code",
   "execution_count": null,
   "id": "92d7217f",
   "metadata": {},
   "outputs": [],
   "source": [
    "# From above scatter plot i can conclude that as the Total_Cost \n",
    "# increases gradually the Total_Revenue also increases"
   ]
  },
  {
   "cell_type": "markdown",
   "id": "e6070ef7",
   "metadata": {},
   "source": [
    "## Bar Plot using Matplotlib"
   ]
  },
  {
   "cell_type": "code",
   "execution_count": null,
   "id": "fdea43fc",
   "metadata": {},
   "outputs": [],
   "source": [
    "df_sales[\"Region\"].value_counts().plot(kind=\"bar\")\n",
    "plt.title(\"Region\")\n",
    "plt.xticks(ticks=range(1,7),rotation=90)\n",
    "plt.show()"
   ]
  },
  {
   "cell_type": "code",
   "execution_count": null,
   "id": "5cd91d31",
   "metadata": {},
   "outputs": [],
   "source": [
    "# From above bar plot i conclude that Sub-Saharan Africa is at top, \n",
    "# North America being last, however remaining regions lie in the middle"
   ]
  },
  {
   "cell_type": "markdown",
   "id": "8e791505",
   "metadata": {},
   "source": [
    "## Line Plot using Matplotlib"
   ]
  },
  {
   "cell_type": "code",
   "execution_count": null,
   "id": "6a970f26",
   "metadata": {},
   "outputs": [],
   "source": [
    "plt.plot(df_sales[\"Units_Sold\"].head(30), df_sales[\"Unit_SellingPrice\"].head(30), label=\"Units\",marker=\"P\",mfc=\"r\",mec=\"y\",ms=10,lw=2)\n",
    "plt.title(\"Units_Sold vs Unit_SellingPrice\", loc=\"center\",fontdict={'family':'sans','style':'italic','color':'blue', 'size':18})\n",
    "plt.xlabel(\"Units_Sold\")\n",
    "plt.ylabel(\"Unit_SellingPrice\")\n",
    "plt.legend()\n",
    "plt.grid()\n",
    "plt.show()   "
   ]
  },
  {
   "cell_type": "code",
   "execution_count": null,
   "id": "c3d4f041",
   "metadata": {},
   "outputs": [],
   "source": [
    "# From above plot i conclude that most Units Sold happened from 2000-10000 units\n",
    "# however the highest selling price unit is around 620"
   ]
  }
 ],
 "metadata": {
  "kernelspec": {
   "display_name": "Python 3 (ipykernel)",
   "language": "python",
   "name": "python3"
  },
  "language_info": {
   "codemirror_mode": {
    "name": "ipython",
    "version": 3
   },
   "file_extension": ".py",
   "mimetype": "text/x-python",
   "name": "python",
   "nbconvert_exporter": "python",
   "pygments_lexer": "ipython3",
   "version": "3.11.4"
  }
 },
 "nbformat": 4,
 "nbformat_minor": 5
}
