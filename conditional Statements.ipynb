{
 "cells": [
  {
   "cell_type": "markdown",
   "id": "807ce1e7",
   "metadata": {},
   "source": [
    "###### syntax"
   ]
  },
  {
   "cell_type": "raw",
   "id": "e5b3cf39",
   "metadata": {},
   "source": [
    "if condition:\n",
    "    #statement 1\n",
    "    #statement 2\n",
    "    #statement 3\n",
    "    ..."
   ]
  },
  {
   "cell_type": "code",
   "execution_count": 2,
   "id": "9ce55754",
   "metadata": {},
   "outputs": [],
   "source": [
    "a = 10\n",
    "b = 20\n",
    "if a > b:\n",
    "    print(\"a is greater value\")"
   ]
  },
  {
   "cell_type": "code",
   "execution_count": 2,
   "id": "50ce4015",
   "metadata": {},
   "outputs": [
    {
     "name": "stdout",
     "output_type": "stream",
     "text": [
      "ENter a value:: 20\n",
      "ENter b value:: 5\n",
      "a is greater value\n"
     ]
    }
   ],
   "source": [
    "a = int(input(\"ENter a value:: \"))\n",
    "b = int(input(\"ENter b value:: \"))\n",
    "\n",
    "if b < a:\n",
    "    \n",
    "    print(\"a is greater value\")\n",
    "    \n",
    "else:\n",
    "    \n",
    "    print(\"b is greater value\")"
   ]
  },
  {
   "cell_type": "code",
   "execution_count": null,
   "id": "0801b633",
   "metadata": {},
   "outputs": [],
   "source": [
    "#find the given user input whether it is even or odd number"
   ]
  },
  {
   "cell_type": "code",
   "execution_count": 5,
   "id": "5bd85a90",
   "metadata": {},
   "outputs": [
    {
     "name": "stdout",
     "output_type": "stream",
     "text": [
      "Enter a value:: 100\n",
      "It is even number\n"
     ]
    }
   ],
   "source": [
    "number = int(input(\"Enter a value:: \"))\n",
    "\n",
    "if (number % 2) == 0:\n",
    "    print(\"It is even number\")\n",
    "else:\n",
    "    print(\"It is Odd number\")"
   ]
  },
  {
   "cell_type": "code",
   "execution_count": 6,
   "id": "a676216c",
   "metadata": {},
   "outputs": [
    {
     "name": "stdout",
     "output_type": "stream",
     "text": [
      "Enter a value:: 100\n",
      "It is even number\n"
     ]
    }
   ],
   "source": [
    "number = int(input(\"Enter a value:: \"))\n",
    "\n",
    "if (number % 2) == 1:\n",
    "    print(\"It is odd number\")\n",
    "else:\n",
    "    print(\"It is even number\")"
   ]
  },
  {
   "cell_type": "code",
   "execution_count": 8,
   "id": "a3caa2d0",
   "metadata": {},
   "outputs": [
    {
     "name": "stdout",
     "output_type": "stream",
     "text": [
      "Enter a value:: 100\n",
      "It is even number\n"
     ]
    }
   ],
   "source": [
    "number = int(input(\"Enter a value:: \"))\n",
    "\n",
    "if (number % 2)!= 0:\n",
    "    print(\"It is odd number\")\n",
    "else:\n",
    "    print(\"It is even number\")"
   ]
  },
  {
   "cell_type": "code",
   "execution_count": 9,
   "id": "1b398393",
   "metadata": {},
   "outputs": [
    {
     "name": "stdout",
     "output_type": "stream",
     "text": [
      "Enter a value:: 100\n",
      "It is even number\n"
     ]
    }
   ],
   "source": [
    "number = int(input(\"Enter a value:: \"))\n",
    "\n",
    "if (number % 2)!= 1:\n",
    "    print(\"It is even number\")\n",
    "else:\n",
    "    print(\"It is odd number\")"
   ]
  },
  {
   "cell_type": "code",
   "execution_count": null,
   "id": "477f086d",
   "metadata": {},
   "outputs": [],
   "source": [
    "# Ask user to enter website name..and find whether it is valid or not valid website"
   ]
  },
  {
   "cell_type": "code",
   "execution_count": 13,
   "id": "7a52e03f",
   "metadata": {},
   "outputs": [
    {
     "name": "stdout",
     "output_type": "stream",
     "text": [
      "ENter website name::  WWW.FB.COM\n",
      "It is valid website\n"
     ]
    }
   ],
   "source": [
    "web = input(\"ENter website name::  \").lower()\n",
    " \n",
    "if web.startswith(('www.','https:'))  and  web.endswith('.com'):\n",
    "    print(\"It is valid website\")\n",
    "else:\n",
    "    print(\"It is invalid website\")"
   ]
  },
  {
   "cell_type": "code",
   "execution_count": null,
   "id": "1e78ac2a",
   "metadata": {},
   "outputs": [],
   "source": [
    "#check whether given string is  palindrome  or not"
   ]
  },
  {
   "cell_type": "code",
   "execution_count": null,
   "id": "c18ccb15",
   "metadata": {},
   "outputs": [],
   "source": [
    "malayalam\n",
    "radar\n",
    "mom\n",
    "dad\n",
    "nun\n",
    "ramukumar\n",
    "racecar"
   ]
  },
  {
   "cell_type": "code",
   "execution_count": 21,
   "id": "17373375",
   "metadata": {},
   "outputs": [
    {
     "name": "stdout",
     "output_type": "stream",
     "text": [
      "Enter a name:: 121\n",
      "It is Palindrome\n"
     ]
    }
   ],
   "source": [
    "user = input(\"Enter a name:: \").upper()\n",
    "reverse = user[::-1]\n",
    "\n",
    "if (user  == reverse):\n",
    "    print(\"It is Palindrome\")\n",
    "else:\n",
    "    print(\"It is not palindrome\")"
   ]
  },
  {
   "cell_type": "code",
   "execution_count": 24,
   "id": "c83ea716",
   "metadata": {},
   "outputs": [
    {
     "name": "stdout",
     "output_type": "stream",
     "text": [
      "ENter first value::  12\n",
      "ENter second value::  10\n",
      "num1 is greater\n"
     ]
    }
   ],
   "source": [
    "num1 = int(input(\"ENter first value::  \"))\n",
    "num2 = int(input(\"ENter second value::  \"))\n",
    "\n",
    "if num1 >  num2 :\n",
    "    print(\"num1 is greater\")\n",
    "    \n",
    "elif num1 < num2:\n",
    "    print(\"num2 is greater\")\n",
    "    \n",
    "else:\n",
    "    print(\"Both are equal\")"
   ]
  },
  {
   "cell_type": "markdown",
   "id": "a1b6d8a4",
   "metadata": {},
   "source": [
    "#### Grade Calculator"
   ]
  },
  {
   "cell_type": "code",
   "execution_count": null,
   "id": "5abfcc8a",
   "metadata": {},
   "outputs": [],
   "source": [
    "90 - 100 ---> 'A+'\n",
    "75 - 90 ---> 'A '\n",
    "65 - 75 ---> 'B'\n",
    "50- 65 ---->'C'\n",
    "35 - 49 --> 'D'\n",
    "< 35  ---> 'Fail'"
   ]
  },
  {
   "cell_type": "code",
   "execution_count": 36,
   "id": "6fe03f09",
   "metadata": {},
   "outputs": [
    {
     "name": "stdout",
     "output_type": "stream",
     "text": [
      "ENter your marks:: 0\n",
      "Fail\n"
     ]
    }
   ],
   "source": [
    "marks = int(input(\"ENter your marks:: \"))\n",
    "\n",
    "if (marks >= 90) and (marks <= 100):\n",
    "    print('A+ grade')\n",
    "    \n",
    "elif (marks >=75) and (marks < 90):\n",
    "    print('A grade')\n",
    "\n",
    "elif (marks >= 65) and (marks< 75):\n",
    "    print(\"B grade\")\n",
    "    \n",
    "elif (marks>=50) and (marks< 65):\n",
    "    print('C grade')\n",
    "    \n",
    "elif (marks >= 35) and (marks< 50):\n",
    "    print('D grade')\n",
    "    \n",
    "elif (marks >100)   or  (marks<0):\n",
    "    print(\"Enter valid marks\")\n",
    "    \n",
    "else:\n",
    "    print(\"Fail\")"
   ]
  },
  {
   "cell_type": "code",
   "execution_count": 3,
   "id": "cd5aa9ed",
   "metadata": {},
   "outputs": [
    {
     "name": "stdout",
     "output_type": "stream",
     "text": [
      "ENter website name::  www.insta.co.in\n",
      "It is valid website\n"
     ]
    }
   ],
   "source": [
    "web = input(\"ENter website name::  \").lower()\n",
    " \n",
    "if web.startswith(('www.','https:'))  and  web.endswith(('.com','.net','.in')):\n",
    "    print(\"It is valid website\")\n",
    "else:\n",
    "    print(\"It is invalid website\")"
   ]
  },
  {
   "cell_type": "markdown",
   "id": "ac03535c",
   "metadata": {},
   "source": [
    "### Nested if statements"
   ]
  },
  {
   "cell_type": "code",
   "execution_count": 6,
   "id": "e908bcc0",
   "metadata": {},
   "outputs": [
    {
     "name": "stdout",
     "output_type": "stream",
     "text": [
      "ENter website name::  ww.sqwhshq\n",
      "It is invalid\n"
     ]
    }
   ],
   "source": [
    "web = input(\"ENter website name::  \").lower()\n",
    "\n",
    "if web.startswith(('www.','https:')):\n",
    "    if web.endswith(('.com','.net','.in')):\n",
    "        print(\"It is valid website\")\n",
    "    else:\n",
    "        print(\"Invalid Website\")\n",
    "\n",
    "else:\n",
    "    print(\"It is invalid\")\n"
   ]
  },
  {
   "cell_type": "markdown",
   "id": "a158a7e7",
   "metadata": {},
   "source": [
    "On the ocassion of women's day KFC is giving 20% discount on every purchase..ask user to enter the details if the user is women then offer 20% .if age is less than 10 offer chocolate also"
   ]
  },
  {
   "cell_type": "code",
   "execution_count": 10,
   "id": "96307953",
   "metadata": {},
   "outputs": [
    {
     "name": "stdout",
     "output_type": "stream",
     "text": [
      "Enter your name :: asha\n",
      "Select your gender :: female\n",
      "Enter your age:: 9\n",
      "Take chocolate also\n"
     ]
    }
   ],
   "source": [
    "name = input(\"Enter your name :: \")\n",
    "gender = input(\"Select your gender :: \").lower()\n",
    "age = int(input(\"Enter your age:: \"))\n",
    "\n",
    "if gender == 'female':\n",
    "    \n",
    "    if age < 10:\n",
    "        print(\"Take chocolate also\")\n",
    "    else:\n",
    "        print(\"Congratulations..you got 20% discount\")\n",
    "        \n",
    "else:\n",
    "    print(\"Pay the total amount without discount\") "
   ]
  },
  {
   "cell_type": "markdown",
   "id": "ad23cf4f",
   "metadata": {},
   "source": [
    "### Ternary Operator"
   ]
  },
  {
   "cell_type": "code",
   "execution_count": 13,
   "id": "069cdf75",
   "metadata": {},
   "outputs": [
    {
     "name": "stdout",
     "output_type": "stream",
     "text": [
      "Enter the number:: 10\n",
      "Even\n"
     ]
    }
   ],
   "source": [
    "num = int(input(\"Enter the number:: \"))\n",
    "\n",
    "if num%2 == 0:\n",
    "    print(\"Even\")\n",
    "else:\n",
    "    print(\"Odd\")"
   ]
  },
  {
   "cell_type": "code",
   "execution_count": null,
   "id": "a24b202d",
   "metadata": {},
   "outputs": [],
   "source": []
  },
  {
   "cell_type": "markdown",
   "id": "2beefae7",
   "metadata": {},
   "source": [
    " c =  first_value     if  condition  else  second_value"
   ]
  },
  {
   "cell_type": "code",
   "execution_count": 16,
   "id": "416ba669",
   "metadata": {},
   "outputs": [
    {
     "name": "stdout",
     "output_type": "stream",
     "text": [
      "Enter the number:: 13\n"
     ]
    },
    {
     "data": {
      "text/plain": [
       "'odd'"
      ]
     },
     "execution_count": 16,
     "metadata": {},
     "output_type": "execute_result"
    }
   ],
   "source": [
    "num = int(input(\"Enter the number:: \"))\n",
    "\n",
    "'even'   if (num%2 == 0) else 'odd'"
   ]
  },
  {
   "cell_type": "markdown",
   "id": "cce7fc38",
   "metadata": {},
   "source": [
    "students = [\"Rajesh\",\"Ramesh\",\"Suresh\",\"Prakash\",\"Asha\",\"Neha\",\"Lavanya\"]\n",
    "\n",
    "using ternary operator find the whether Asha is there in the students list or not.\n",
    "print availabe if she is there otherwise not available"
   ]
  },
  {
   "cell_type": "code",
   "execution_count": 17,
   "id": "615f7ab8",
   "metadata": {},
   "outputs": [
    {
     "name": "stdout",
     "output_type": "stream",
     "text": [
      "She is available\n"
     ]
    }
   ],
   "source": [
    "#normal method\n",
    "students = [\"Rajesh\",\"Ramesh\",\"Suresh\",\"Prakash\",\"Asha\",\"Neha\",\"Lavanya\"]\n",
    "\n",
    "if 'Asha' in students:\n",
    "    print(\"She is available\")\n",
    "else:\n",
    "    print(\"She is not available\")"
   ]
  },
  {
   "cell_type": "code",
   "execution_count": 19,
   "id": "92dfd738",
   "metadata": {},
   "outputs": [
    {
     "data": {
      "text/plain": [
       "'She is available'"
      ]
     },
     "execution_count": 19,
     "metadata": {},
     "output_type": "execute_result"
    }
   ],
   "source": [
    "#ternary operator\n",
    "  \n",
    "    \n",
    "'She is available' if 'Asha' in students else 'she is not avaialable'"
   ]
  },
  {
   "cell_type": "code",
   "execution_count": 20,
   "id": "c2a7592a",
   "metadata": {},
   "outputs": [
    {
     "name": "stdout",
     "output_type": "stream",
     "text": [
      "Enter the number:: 3\n"
     ]
    },
    {
     "data": {
      "text/plain": [
       "'odd'"
      ]
     },
     "execution_count": 20,
     "metadata": {},
     "output_type": "execute_result"
    }
   ],
   "source": [
    "num = int(input(\"Enter the number:: \"))\n",
    "\n",
    "'even'   if (num%2 == 0) else 'odd'"
   ]
  },
  {
   "cell_type": "markdown",
   "id": "ea764c67",
   "metadata": {},
   "source": [
    "[second_value ,first_value]  [condition]"
   ]
  },
  {
   "cell_type": "code",
   "execution_count": 23,
   "id": "f6c040b0",
   "metadata": {},
   "outputs": [
    {
     "name": "stdout",
     "output_type": "stream",
     "text": [
      "Enter the number:: 24\n"
     ]
    },
    {
     "data": {
      "text/plain": [
       "'Even'"
      ]
     },
     "execution_count": 23,
     "metadata": {},
     "output_type": "execute_result"
    }
   ],
   "source": [
    "num = int(input(\"Enter the number:: \"))\n",
    "\n",
    "['Odd'  , 'Even'] [num%2 == 0]"
   ]
  },
  {
   "cell_type": "markdown",
   "id": "b13fde55",
   "metadata": {},
   "source": [
    "### Tax Calculator"
   ]
  },
  {
   "cell_type": "markdown",
   "id": "5ff57a34",
   "metadata": {},
   "source": [
    "Income Tax Slab\n",
    "\n",
    "Income Tax Rates Applicable for FY 2023-24 as per the new regime for HUF and all Individuals\n",
    "\n",
    "₹ 3,00,000 -No Tax\n",
    "₹ 3,00,001 to ₹ 6,00,000 - 5%\n",
    "₹ 6,00,001 to ₹ 9,00,000 - 10%\n",
    "₹ 9,00,001 to ₹ 12,00,000 - 15%\n",
    "₹ 12,00,001 to ₹ 15,00,000  - 20%\n",
    "₹ 15,00,000 - 30%"
   ]
  },
  {
   "cell_type": "code",
   "execution_count": 4,
   "id": "cc05aac9",
   "metadata": {},
   "outputs": [
    {
     "name": "stdout",
     "output_type": "stream",
     "text": [
      "Enter the annual salary:: -443536\n",
      "Enter valid salary\n"
     ]
    }
   ],
   "source": [
    "salary = int(input(\"Enter the annual salary:: \"))\n",
    "\n",
    "if salary > 0:\n",
    "    if salary < 300000:\n",
    "        print(\"No Tax\")\n",
    "\n",
    "    elif (salary >= 300000) and (salary < 600000):\n",
    "        tax = salary * 0.05\n",
    "        print(f\"You need pay {tax} rupees\")\n",
    "\n",
    "    elif (salary >= 600000) and (salary < 900000):\n",
    "        tax = salary * 0.1\n",
    "        print(f\"You need pay {tax} rupees\")\n",
    "\n",
    "    elif (salary >= 900000) and (salary < 1200000):\n",
    "        tax = salary * 0.15\n",
    "        print(f\"You need pay {tax} rupees\")\n",
    "\n",
    "    elif (salary >= 1200000) and (salary < 1500000):\n",
    "        tax = salary * 0.2\n",
    "        print(f\"You need pay {tax} rupees\")\n",
    "    else:\n",
    "        tax = salary * 0.3\n",
    "        print(f\"You need pay {tax} rupees\")\n",
    "else:\n",
    "    print(\"Enter valid salary\")"
   ]
  },
  {
   "cell_type": "markdown",
   "id": "4196612c",
   "metadata": {},
   "source": [
    "### Ticket Vending Machine"
   ]
  },
  {
   "cell_type": "code",
   "execution_count": null,
   "id": "d87045bb",
   "metadata": {},
   "outputs": [],
   "source": [
    "Ramoji film city...\n",
    "\n",
    "ask user how many adults,children,senior_citizen\n",
    "\n",
    "Adult = 1600\n",
    "children = 1000\n",
    "senior_citizen = 800\n",
    "\n",
    "if all price > 5000..provide 5% discount\n"
   ]
  },
  {
   "cell_type": "code",
   "execution_count": 9,
   "id": "aa2f38a1",
   "metadata": {},
   "outputs": [
    {
     "name": "stdout",
     "output_type": "stream",
     "text": [
      "**************************************************\n",
      "**Welcome to Ramoji film city**\n",
      "Enter the number of adults :: 1\n",
      "Enter the number of children :: 1\n",
      "Enter the number of senior citizen:: 1\n",
      "The total amount is  3400\n",
      "**Thank you visit Again**\n",
      "**************************************************\n"
     ]
    }
   ],
   "source": [
    "print('*'*50)\n",
    "print(\"**Welcome to Ramoji film city**\")\n",
    "\n",
    "#asking user\n",
    "\n",
    "adult = int(input(\"Enter the number of adults :: \"))\n",
    "children = int(input(\"Enter the number of children :: \"))\n",
    "senior_citizen = int(input(\"Enter the number of senior citizen:: \"))\n",
    "\n",
    "#calculating the price\n",
    "\n",
    "price = adult * 1600 + children * 1000 + senior_citizen * 800\n",
    "\n",
    "if price > 5000:\n",
    "    print(\"You are eligible for discount\")\n",
    "    price = price - price * 0.05\n",
    "    \n",
    "print('The total amount is ',price)\n",
    "\n",
    "\n",
    "print(\"**Thank you visit Again**\")\n",
    "print('*'*50)\n"
   ]
  },
  {
   "cell_type": "code",
   "execution_count": null,
   "id": "0d7deff2",
   "metadata": {},
   "outputs": [],
   "source": []
  }
 ],
 "metadata": {
  "kernelspec": {
   "display_name": "Python 3 (ipykernel)",
   "language": "python",
   "name": "python3"
  },
  "language_info": {
   "codemirror_mode": {
    "name": "ipython",
    "version": 3
   },
   "file_extension": ".py",
   "mimetype": "text/x-python",
   "name": "python",
   "nbconvert_exporter": "python",
   "pygments_lexer": "ipython3",
   "version": "3.11.4"
  }
 },
 "nbformat": 4,
 "nbformat_minor": 5
}
