{
 "cells": [
  {
   "cell_type": "code",
   "execution_count": 3,
   "id": "895bb59d",
   "metadata": {
    "scrolled": true
   },
   "outputs": [
    {
     "name": "stdout",
     "output_type": "stream",
     "text": [
      "Hello\n",
      "Hello\n",
      "Hello\n",
      "Hello\n",
      "Hello\n",
      "Hello\n",
      "Hello\n",
      "Hello\n",
      "Hello\n"
     ]
    }
   ],
   "source": [
    "a = 10\n",
    "b = 2\n",
    "while a >= b :\n",
    "    print(\"Hello\")\n",
    "    b = b +   1\n",
    "    "
   ]
  },
  {
   "cell_type": "code",
   "execution_count": 6,
   "id": "e3926217",
   "metadata": {},
   "outputs": [
    {
     "name": "stdout",
     "output_type": "stream",
     "text": [
      "Enter t a number:: 10\n",
      "10\n",
      "9\n",
      "8\n",
      "7\n",
      "6\n",
      "5\n",
      "4\n",
      "3\n",
      "2\n",
      "1\n"
     ]
    }
   ],
   "source": [
    "a = int(input(\"Enter t a number:: \"))\n",
    "while a:\n",
    "    print(a)\n",
    "    \n",
    "    a = a - 1"
   ]
  },
  {
   "cell_type": "code",
   "execution_count": 7,
   "id": "b4c6636f",
   "metadata": {},
   "outputs": [
    {
     "name": "stdout",
     "output_type": "stream",
     "text": [
      "10\n",
      "9\n",
      "8\n",
      "7\n",
      "6\n",
      "5\n",
      "4\n",
      "3\n",
      "2\n",
      "1\n"
     ]
    }
   ],
   "source": [
    "for i in range(10,0,-1):\n",
    "    print(i)"
   ]
  },
  {
   "cell_type": "code",
   "execution_count": null,
   "id": "47d98a75",
   "metadata": {},
   "outputs": [],
   "source": [
    "1\n",
    "2\n",
    "3\n",
    "4\n",
    "5\n",
    "6\n",
    "7\n",
    "8\n",
    "9\n",
    "10"
   ]
  },
  {
   "cell_type": "code",
   "execution_count": 8,
   "id": "45299f2a",
   "metadata": {},
   "outputs": [
    {
     "name": "stdout",
     "output_type": "stream",
     "text": [
      "1\n",
      "2\n",
      "3\n",
      "4\n",
      "5\n",
      "6\n",
      "7\n",
      "8\n",
      "9\n",
      "10\n"
     ]
    }
   ],
   "source": [
    "a = 1\n",
    "\n",
    "while a <= 10:\n",
    "    print(a)\n",
    "    a = a + 1"
   ]
  },
  {
   "cell_type": "markdown",
   "id": "cea32203",
   "metadata": {},
   "source": [
    "#print all even numbers from 20 to 40 using for loop and while loop"
   ]
  },
  {
   "cell_type": "code",
   "execution_count": 9,
   "id": "7e26f585",
   "metadata": {},
   "outputs": [
    {
     "name": "stdout",
     "output_type": "stream",
     "text": [
      "20\n",
      "22\n",
      "24\n",
      "26\n",
      "28\n",
      "30\n",
      "32\n",
      "34\n",
      "36\n",
      "38\n",
      "40\n"
     ]
    }
   ],
   "source": [
    "for i in range(20,41,2):\n",
    "    print(i)"
   ]
  },
  {
   "cell_type": "code",
   "execution_count": 10,
   "id": "5955d4b7",
   "metadata": {},
   "outputs": [
    {
     "name": "stdout",
     "output_type": "stream",
     "text": [
      "20\n",
      "22\n",
      "24\n",
      "26\n",
      "28\n",
      "30\n",
      "32\n",
      "34\n",
      "36\n",
      "38\n",
      "40\n"
     ]
    }
   ],
   "source": [
    "a = 20\n",
    "\n",
    "while a <= 40:\n",
    "    if a%2 == 0:\n",
    "        print(a)\n",
    "    a = a + 1"
   ]
  },
  {
   "cell_type": "code",
   "execution_count": 13,
   "id": "157dde8b",
   "metadata": {},
   "outputs": [
    {
     "name": "stdout",
     "output_type": "stream",
     "text": [
      "20\n",
      "22\n",
      "24\n",
      "26\n",
      "28\n",
      "30\n",
      "32\n",
      "34\n",
      "36\n",
      "38\n",
      "40\n"
     ]
    }
   ],
   "source": [
    "a = 20\n",
    "\n",
    "while a <= 40:\n",
    "    print(a)\n",
    "    a = a + 2"
   ]
  },
  {
   "cell_type": "code",
   "execution_count": null,
   "id": "78aa4c0e",
   "metadata": {},
   "outputs": [],
   "source": [
    "#print multiple of 3 from 0 to 30 using for loop and while loop"
   ]
  },
  {
   "cell_type": "code",
   "execution_count": 14,
   "id": "a93de0d8",
   "metadata": {},
   "outputs": [
    {
     "name": "stdout",
     "output_type": "stream",
     "text": [
      "0\n",
      "3\n",
      "6\n",
      "9\n",
      "12\n",
      "15\n",
      "18\n",
      "21\n",
      "24\n",
      "27\n",
      "30\n"
     ]
    }
   ],
   "source": [
    "#using for loop\n",
    "\n",
    "for i in range(0,31,3):\n",
    "    print(i)"
   ]
  },
  {
   "cell_type": "code",
   "execution_count": 15,
   "id": "da3dfe76",
   "metadata": {},
   "outputs": [
    {
     "name": "stdout",
     "output_type": "stream",
     "text": [
      "0\n",
      "3\n",
      "6\n",
      "9\n",
      "12\n",
      "15\n",
      "18\n",
      "21\n",
      "24\n",
      "27\n",
      "30\n"
     ]
    }
   ],
   "source": [
    "for i in range(0,31):\n",
    "    if i%3 == 0:\n",
    "        print(i)"
   ]
  },
  {
   "cell_type": "code",
   "execution_count": 16,
   "id": "dd71502d",
   "metadata": {},
   "outputs": [
    {
     "name": "stdout",
     "output_type": "stream",
     "text": [
      "0\n",
      "3\n",
      "6\n",
      "9\n",
      "12\n",
      "15\n",
      "18\n",
      "21\n",
      "24\n",
      "27\n",
      "30\n"
     ]
    }
   ],
   "source": [
    "a = 0\n",
    "while a<= 30:\n",
    "    if a%3 == 0:\n",
    "        print(a)\n",
    "    a = a +  1"
   ]
  },
  {
   "cell_type": "code",
   "execution_count": 19,
   "id": "1b438165",
   "metadata": {},
   "outputs": [
    {
     "name": "stdout",
     "output_type": "stream",
     "text": [
      "0\n",
      "3\n",
      "6\n",
      "9\n",
      "12\n",
      "15\n",
      "18\n",
      "21\n",
      "24\n",
      "27\n",
      "30\n"
     ]
    }
   ],
   "source": [
    "a = 0\n",
    "while a<= 30:\n",
    "    print(a)\n",
    "    a = a +  3"
   ]
  },
  {
   "cell_type": "code",
   "execution_count": null,
   "id": "500644f8",
   "metadata": {},
   "outputs": [],
   "source": [
    "print A-Z in reverse order using for loop and while loop"
   ]
  },
  {
   "cell_type": "code",
   "execution_count": 21,
   "id": "0c2b0a5f",
   "metadata": {},
   "outputs": [
    {
     "data": {
      "text/plain": [
       "'A'"
      ]
     },
     "execution_count": 21,
     "metadata": {},
     "output_type": "execute_result"
    }
   ],
   "source": [
    "chr(90)\n",
    "\n",
    "\n",
    "\n",
    "\n",
    "chr(65)"
   ]
  },
  {
   "cell_type": "code",
   "execution_count": 22,
   "id": "184d7fc4",
   "metadata": {},
   "outputs": [
    {
     "name": "stdout",
     "output_type": "stream",
     "text": [
      "Z\n",
      "Y\n",
      "X\n",
      "W\n",
      "V\n",
      "U\n",
      "T\n",
      "S\n",
      "R\n",
      "Q\n",
      "P\n",
      "O\n",
      "N\n",
      "M\n",
      "L\n",
      "K\n",
      "J\n",
      "I\n",
      "H\n",
      "G\n",
      "F\n",
      "E\n",
      "D\n",
      "C\n",
      "B\n",
      "A\n"
     ]
    }
   ],
   "source": [
    "for i in range(90,64,-1):\n",
    "    print(chr(i))"
   ]
  },
  {
   "cell_type": "code",
   "execution_count": 23,
   "id": "67be7bbe",
   "metadata": {},
   "outputs": [
    {
     "name": "stdout",
     "output_type": "stream",
     "text": [
      "Z\n",
      "Y\n",
      "X\n",
      "W\n",
      "V\n",
      "U\n",
      "T\n",
      "S\n",
      "R\n",
      "Q\n",
      "P\n",
      "O\n",
      "N\n",
      "M\n",
      "L\n",
      "K\n",
      "J\n",
      "I\n",
      "H\n",
      "G\n",
      "F\n",
      "E\n",
      "D\n",
      "C\n",
      "B\n",
      "A\n"
     ]
    }
   ],
   "source": [
    "a = 90\n",
    "while a>= 65:\n",
    "    print(chr(a))\n",
    "    a = a - 1"
   ]
  },
  {
   "cell_type": "code",
   "execution_count": 1,
   "id": "51466fb6",
   "metadata": {},
   "outputs": [],
   "source": [
    "prices = [10000,12000,13000,15000,20000,22000,25000,30000,40000,45000,50000,550000]"
   ]
  },
  {
   "cell_type": "code",
   "execution_count": 8,
   "id": "78f5b9d7",
   "metadata": {},
   "outputs": [
    {
     "ename": "NameError",
     "evalue": "name 'prices' is not defined",
     "output_type": "error",
     "traceback": [
      "\u001b[1;31m---------------------------------------------------------------------------\u001b[0m",
      "\u001b[1;31mNameError\u001b[0m                                 Traceback (most recent call last)",
      "Cell \u001b[1;32mIn[8], line 1\u001b[0m\n\u001b[1;32m----> 1\u001b[0m \u001b[38;5;28;01mfor\u001b[39;00m i \u001b[38;5;129;01min\u001b[39;00m prices:\n\u001b[0;32m      3\u001b[0m     \u001b[38;5;28;01mif\u001b[39;00m i \u001b[38;5;241m>\u001b[39m \u001b[38;5;241m30000\u001b[39m:\n\u001b[0;32m      4\u001b[0m         \u001b[38;5;28;01mbreak\u001b[39;00m\n",
      "\u001b[1;31mNameError\u001b[0m: name 'prices' is not defined"
     ]
    }
   ],
   "source": [
    "for i in prices:\n",
    "    \n",
    "    if i > 30000:\n",
    "        break\n",
    "    else:\n",
    "        print(i)"
   ]
  },
  {
   "cell_type": "markdown",
   "id": "4a2c0d78",
   "metadata": {},
   "source": [
    "print the values from 0 to 30 but whenever there is value 23..stop the excecution"
   ]
  },
  {
   "cell_type": "code",
   "execution_count": 4,
   "id": "dc7c759c",
   "metadata": {},
   "outputs": [
    {
     "name": "stdout",
     "output_type": "stream",
     "text": [
      "0\n",
      "1\n",
      "2\n",
      "3\n",
      "4\n",
      "5\n",
      "6\n",
      "7\n",
      "8\n",
      "9\n",
      "10\n",
      "11\n",
      "12\n",
      "13\n",
      "14\n",
      "15\n",
      "16\n",
      "17\n",
      "18\n",
      "19\n",
      "20\n",
      "21\n",
      "22\n"
     ]
    }
   ],
   "source": [
    "a = 0\n",
    "\n",
    "while a<= 30:\n",
    "    if a == 23:\n",
    "            break\n",
    "    else:\n",
    "        print(a)\n",
    "    a = a+1"
   ]
  },
  {
   "cell_type": "markdown",
   "id": "01ae40ab",
   "metadata": {},
   "source": [
    "val = [1,4,6,7,10,\"Hello\",\"Hai\",\"Bye\"]\n",
    "\n",
    "print only integer values whenever there is string data type stop iterating over  the loop\n",
    "\n",
    "for loop and break statement."
   ]
  },
  {
   "cell_type": "code",
   "execution_count": 7,
   "id": "b33942ef",
   "metadata": {},
   "outputs": [
    {
     "name": "stdout",
     "output_type": "stream",
     "text": [
      "1\n",
      "4\n",
      "6\n",
      "7\n",
      "10\n"
     ]
    }
   ],
   "source": [
    "val = [1,4,6,7,10,\"Hello\",\"Hai\",\"Bye\"]\n",
    "\n",
    "for i in val:\n",
    "    \n",
    "    if type(i) != str:\n",
    "        print(i)\n",
    "    else:\n",
    "        break"
   ]
  },
  {
   "cell_type": "code",
   "execution_count": 15,
   "id": "de57ad34",
   "metadata": {},
   "outputs": [],
   "source": [
    "prices = [10000,12000,13000,45000,20000,22000,25000,30000,40000,45000,10000,50000,550000]"
   ]
  },
  {
   "cell_type": "code",
   "execution_count": 16,
   "id": "c991f0d0",
   "metadata": {},
   "outputs": [
    {
     "name": "stdout",
     "output_type": "stream",
     "text": [
      "10000\n",
      "12000\n",
      "13000\n",
      "20000\n",
      "22000\n",
      "25000\n",
      "30000\n",
      "10000\n"
     ]
    }
   ],
   "source": [
    "for i in prices:\n",
    "    \n",
    "    if i > 30000:\n",
    "        continue\n",
    "    else:\n",
    "        print(i)"
   ]
  },
  {
   "cell_type": "markdown",
   "id": "baa2c2ef",
   "metadata": {},
   "source": [
    "[1,1.5,2,5,\"hello\",\"Hai\",5,8.9,123]\n",
    "\n",
    "print only numbers..do the task using  continue "
   ]
  },
  {
   "cell_type": "code",
   "execution_count": 17,
   "id": "cae2aa5f",
   "metadata": {},
   "outputs": [
    {
     "name": "stdout",
     "output_type": "stream",
     "text": [
      "1\n",
      "1.5\n",
      "2\n",
      "5\n",
      "5\n",
      "8.9\n",
      "123\n"
     ]
    }
   ],
   "source": [
    "val = [1,1.5,2,5,\"hello\",\"Hai\",5,8.9,123]\n",
    "\n",
    "for i in val:\n",
    "    if type(i) == str:\n",
    "        continue\n",
    "    else:\n",
    "        print(i)"
   ]
  },
  {
   "cell_type": "code",
   "execution_count": 18,
   "id": "d519c254",
   "metadata": {},
   "outputs": [
    {
     "name": "stdout",
     "output_type": "stream",
     "text": [
      "1\n",
      "1.5\n",
      "2\n",
      "5\n",
      "5\n",
      "8.9\n",
      "123\n"
     ]
    }
   ],
   "source": [
    "for i in val:\n",
    "    if (type(i) == int)  or (type(i) == float)  :\n",
    "        print(i)\n",
    "    else:\n",
    "        continue"
   ]
  },
  {
   "cell_type": "code",
   "execution_count": 21,
   "id": "b51ccd4c",
   "metadata": {},
   "outputs": [],
   "source": [
    "for i in range(10):\n",
    "    pass"
   ]
  },
  {
   "cell_type": "code",
   "execution_count": 23,
   "id": "b57fedae",
   "metadata": {},
   "outputs": [],
   "source": [
    "def fun():\n",
    "    pass"
   ]
  },
  {
   "cell_type": "code",
   "execution_count": 5,
   "id": "b76585b5",
   "metadata": {},
   "outputs": [
    {
     "name": "stdout",
     "output_type": "stream",
     "text": [
      "Enter the number:: 2\n",
      "You have 2 attempts only\n",
      "Enter the number:: 4\n",
      "Congratulations!..You are the winner.\n"
     ]
    }
   ],
   "source": [
    "#Genearate the system number\n",
    "\n",
    "import random\n",
    "system = random.randint(0,10)\n",
    "#choices\n",
    "attempts = 3\n",
    "\n",
    "while attempts > 0:\n",
    "    \n",
    "    #Ask the user for his choice\n",
    "    user = int(input(\"Enter the number:: \"))\n",
    "    \n",
    "    if system == user:\n",
    "        \n",
    "        print(\"Congratulations!..You are the winner.\")\n",
    "        break\n",
    "        \n",
    "    else:\n",
    "        attempts = attempts - 1\n",
    "        print(f\"You have {attempts} attempts only\")\n",
    "        if attempts == 0:\n",
    "            print(\"you are the looser\")\n",
    "            break"
   ]
  },
  {
   "cell_type": "markdown",
   "id": "837bf5b0",
   "metadata": {},
   "source": [
    "Ask the user until he gives valid email ID"
   ]
  },
  {
   "cell_type": "code",
   "execution_count": 12,
   "id": "a13d82c9",
   "metadata": {},
   "outputs": [
    {
     "name": "stdout",
     "output_type": "stream",
     "text": [
      "Enter your mail ID:: qwbsqbs\n",
      "Enter your mail ID:: qwwg\n",
      "Enter your mail ID:: egjureof\n",
      "Enter your mail ID:: rk@gmail.com\n",
      "Valid Mail ID\n"
     ]
    }
   ],
   "source": [
    "a  =True\n",
    "while a:\n",
    "    mail = input(\"Enter your mail ID:: \")\n",
    "    \n",
    "    if mail.endswith('@gmail.com'):\n",
    "        print('Valid Mail ID')\n",
    "        a = False"
   ]
  },
  {
   "cell_type": "code",
   "execution_count": null,
   "id": "88530525",
   "metadata": {},
   "outputs": [],
   "source": [
    "1. using data type values...0,0.0,'',False\n",
    "2. using expression --- a  = a-1\n",
    "3. break statement"
   ]
  }
 ],
 "metadata": {
  "kernelspec": {
   "display_name": "Python 3 (ipykernel)",
   "language": "python",
   "name": "python3"
  },
  "language_info": {
   "codemirror_mode": {
    "name": "ipython",
    "version": 3
   },
   "file_extension": ".py",
   "mimetype": "text/x-python",
   "name": "python",
   "nbconvert_exporter": "python",
   "pygments_lexer": "ipython3",
   "version": "3.11.4"
  }
 },
 "nbformat": 4,
 "nbformat_minor": 5
}
