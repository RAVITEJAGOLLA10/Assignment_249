{
 "cells": [
  {
   "cell_type": "code",
   "execution_count": 1,
   "id": "15b1a0bf",
   "metadata": {},
   "outputs": [],
   "source": [
    "name = 'Hello'"
   ]
  },
  {
   "cell_type": "code",
   "execution_count": null,
   "id": "fe1ee698",
   "metadata": {},
   "outputs": [],
   "source": [
    "name.count()"
   ]
  },
  {
   "cell_type": "markdown",
   "id": "907dc30c",
   "metadata": {},
   "source": [
    "#### create an empty function"
   ]
  },
  {
   "cell_type": "code",
   "execution_count": 3,
   "id": "04cdbff9",
   "metadata": {},
   "outputs": [],
   "source": [
    "#creating/defining the function\n",
    "def datascience():\n",
    "    '''  this is about data science course'''\n",
    "    print(\"Currently i am learning python\")"
   ]
  },
  {
   "cell_type": "code",
   "execution_count": 4,
   "id": "b730dfe4",
   "metadata": {},
   "outputs": [
    {
     "name": "stdout",
     "output_type": "stream",
     "text": [
      "Currently i am learning python\n"
     ]
    }
   ],
   "source": [
    "#calling the function\n",
    "\n",
    "datascience()"
   ]
  },
  {
   "cell_type": "code",
   "execution_count": 5,
   "id": "fe1ea27b",
   "metadata": {},
   "outputs": [
    {
     "name": "stdout",
     "output_type": "stream",
     "text": [
      "Currently i am learning python\n"
     ]
    }
   ],
   "source": [
    "datascience()"
   ]
  },
  {
   "cell_type": "code",
   "execution_count": 6,
   "id": "245ed957",
   "metadata": {},
   "outputs": [
    {
     "name": "stdout",
     "output_type": "stream",
     "text": [
      "Currently i am learning python\n"
     ]
    }
   ],
   "source": [
    "datascience()"
   ]
  },
  {
   "cell_type": "markdown",
   "id": "867a826a",
   "metadata": {},
   "source": [
    "### create a function which shows 'Hello World'"
   ]
  },
  {
   "cell_type": "code",
   "execution_count": 8,
   "id": "ba73803a",
   "metadata": {},
   "outputs": [],
   "source": [
    "def wishes():\n",
    "    print(\"Hello World\")"
   ]
  },
  {
   "cell_type": "code",
   "execution_count": 14,
   "id": "b945581a",
   "metadata": {},
   "outputs": [
    {
     "name": "stdout",
     "output_type": "stream",
     "text": [
      "Hello World\n"
     ]
    },
    {
     "data": {
      "text/plain": [
       "NoneType"
      ]
     },
     "execution_count": 14,
     "metadata": {},
     "output_type": "execute_result"
    }
   ],
   "source": [
    "type(wishes())"
   ]
  },
  {
   "cell_type": "code",
   "execution_count": 12,
   "id": "8abff911",
   "metadata": {},
   "outputs": [],
   "source": [
    "def wish():\n",
    "    return 'Hello World'"
   ]
  },
  {
   "cell_type": "code",
   "execution_count": 15,
   "id": "863713c8",
   "metadata": {},
   "outputs": [
    {
     "data": {
      "text/plain": [
       "str"
      ]
     },
     "execution_count": 15,
     "metadata": {},
     "output_type": "execute_result"
    }
   ],
   "source": [
    "type(wish())"
   ]
  },
  {
   "cell_type": "code",
   "execution_count": 19,
   "id": "f5284c6e",
   "metadata": {},
   "outputs": [
    {
     "name": "stdout",
     "output_type": "stream",
     "text": [
      "Hello World\n"
     ]
    },
    {
     "ename": "TypeError",
     "evalue": "unsupported operand type(s) for +: 'NoneType' and 'str'",
     "output_type": "error",
     "traceback": [
      "\u001b[1;31m---------------------------------------------------------------------------\u001b[0m",
      "\u001b[1;31mTypeError\u001b[0m                                 Traceback (most recent call last)",
      "Cell \u001b[1;32mIn[19], line 1\u001b[0m\n\u001b[1;32m----> 1\u001b[0m wishes() \u001b[38;5;241m+\u001b[39m \u001b[38;5;124m'\u001b[39m\u001b[38;5;124mwelcome\u001b[39m\u001b[38;5;124m'\u001b[39m\n",
      "\u001b[1;31mTypeError\u001b[0m: unsupported operand type(s) for +: 'NoneType' and 'str'"
     ]
    }
   ],
   "source": [
    "wishes() + 'welcome'"
   ]
  },
  {
   "cell_type": "code",
   "execution_count": 18,
   "id": "f5017d61",
   "metadata": {},
   "outputs": [
    {
     "data": {
      "text/plain": [
       "'Hello World welcome'"
      ]
     },
     "execution_count": 18,
     "metadata": {},
     "output_type": "execute_result"
    }
   ],
   "source": [
    "wish() + ' welcome'"
   ]
  },
  {
   "cell_type": "markdown",
   "id": "3b6df207",
   "metadata": {},
   "source": [
    "### Arguments/Parameters"
   ]
  },
  {
   "cell_type": "code",
   "execution_count": 26,
   "id": "cb838f1b",
   "metadata": {},
   "outputs": [],
   "source": [
    "def add(a = 5,b = 10):\n",
    "    print(a+b)"
   ]
  },
  {
   "cell_type": "code",
   "execution_count": 27,
   "id": "dafcb56f",
   "metadata": {},
   "outputs": [
    {
     "name": "stdout",
     "output_type": "stream",
     "text": [
      "15\n"
     ]
    }
   ],
   "source": [
    "add()"
   ]
  },
  {
   "cell_type": "code",
   "execution_count": 22,
   "id": "d4f074e0",
   "metadata": {},
   "outputs": [
    {
     "name": "stdout",
     "output_type": "stream",
     "text": [
      "21\n"
     ]
    }
   ],
   "source": [
    "add(10,11)"
   ]
  },
  {
   "cell_type": "code",
   "execution_count": 23,
   "id": "852a8b01",
   "metadata": {},
   "outputs": [
    {
     "name": "stdout",
     "output_type": "stream",
     "text": [
      "Hello world\n"
     ]
    }
   ],
   "source": [
    "add('Hello',' world')"
   ]
  },
  {
   "cell_type": "markdown",
   "id": "065fc503",
   "metadata": {},
   "source": [
    "### Positional Arguments"
   ]
  },
  {
   "cell_type": "code",
   "execution_count": 28,
   "id": "071e23d8",
   "metadata": {},
   "outputs": [],
   "source": [
    "def sub(x,y):\n",
    "    print(x-y)"
   ]
  },
  {
   "cell_type": "code",
   "execution_count": 32,
   "id": "d1d0aaf3",
   "metadata": {},
   "outputs": [
    {
     "name": "stdout",
     "output_type": "stream",
     "text": [
      "5\n"
     ]
    }
   ],
   "source": [
    "sub(10,5) #x = 10,y = 5"
   ]
  },
  {
   "cell_type": "code",
   "execution_count": 33,
   "id": "1d997a9b",
   "metadata": {},
   "outputs": [
    {
     "name": "stdout",
     "output_type": "stream",
     "text": [
      "-5\n"
     ]
    }
   ],
   "source": [
    "sub(5,10) #x = 5,y=10"
   ]
  },
  {
   "cell_type": "markdown",
   "id": "4ecaea5c",
   "metadata": {},
   "source": [
    "### Keyword Arguments"
   ]
  },
  {
   "cell_type": "code",
   "execution_count": 34,
   "id": "ef32d3e7",
   "metadata": {},
   "outputs": [],
   "source": [
    "def div(a,b):\n",
    "    print(a/b)"
   ]
  },
  {
   "cell_type": "code",
   "execution_count": 35,
   "id": "2c940cd1",
   "metadata": {},
   "outputs": [
    {
     "name": "stdout",
     "output_type": "stream",
     "text": [
      "0.2\n"
     ]
    }
   ],
   "source": [
    "div(a = 2,b = 10)"
   ]
  },
  {
   "cell_type": "code",
   "execution_count": 36,
   "id": "20247b05",
   "metadata": {},
   "outputs": [
    {
     "name": "stdout",
     "output_type": "stream",
     "text": [
      "0.2\n"
     ]
    }
   ],
   "source": [
    "div(b = 10,a = 2)"
   ]
  },
  {
   "cell_type": "code",
   "execution_count": 37,
   "id": "eeba01fc",
   "metadata": {},
   "outputs": [
    {
     "name": "stdout",
     "output_type": "stream",
     "text": [
      "2.0\n"
     ]
    }
   ],
   "source": [
    "div(a = 10,b = 5)"
   ]
  },
  {
   "cell_type": "code",
   "execution_count": 38,
   "id": "838352a0",
   "metadata": {},
   "outputs": [
    {
     "name": "stdout",
     "output_type": "stream",
     "text": [
      "0.2\n"
     ]
    }
   ],
   "source": [
    "div(b = 5,a = 1)"
   ]
  },
  {
   "cell_type": "code",
   "execution_count": 39,
   "id": "acb9b2e8",
   "metadata": {},
   "outputs": [],
   "source": [
    "def div(a,b):\n",
    "    print(a/b)"
   ]
  },
  {
   "cell_type": "code",
   "execution_count": 40,
   "id": "97395c26",
   "metadata": {},
   "outputs": [
    {
     "name": "stdout",
     "output_type": "stream",
     "text": [
      "0.5\n"
     ]
    }
   ],
   "source": [
    "div(2,b = 4)"
   ]
  },
  {
   "cell_type": "code",
   "execution_count": 41,
   "id": "db250e47",
   "metadata": {},
   "outputs": [
    {
     "ename": "SyntaxError",
     "evalue": "positional argument follows keyword argument (2363882660.py, line 1)",
     "output_type": "error",
     "traceback": [
      "\u001b[1;36m  Cell \u001b[1;32mIn[41], line 1\u001b[1;36m\u001b[0m\n\u001b[1;33m    div(a = 2,4)\u001b[0m\n\u001b[1;37m               ^\u001b[0m\n\u001b[1;31mSyntaxError\u001b[0m\u001b[1;31m:\u001b[0m positional argument follows keyword argument\n"
     ]
    }
   ],
   "source": [
    "div(a = 2,4)  #first provide positional arguments then keyword arguments"
   ]
  },
  {
   "cell_type": "markdown",
   "id": "1e0056cd",
   "metadata": {},
   "source": [
    "### Default Arguments"
   ]
  },
  {
   "cell_type": "code",
   "execution_count": null,
   "id": "e208d2b5",
   "metadata": {},
   "outputs": [],
   "source": [
    "Dear Rajesh..Thank you for registering\n",
    "\n",
    "Dear customer...Thank you for registering"
   ]
  },
  {
   "cell_type": "code",
   "execution_count": 42,
   "id": "16324d58",
   "metadata": {},
   "outputs": [],
   "source": [
    "def zomato(name = 'Customer'):\n",
    "    print(f\"HEllo {name}  Thank you for ordering the food\")"
   ]
  },
  {
   "cell_type": "code",
   "execution_count": 43,
   "id": "91fae32b",
   "metadata": {},
   "outputs": [
    {
     "name": "stdout",
     "output_type": "stream",
     "text": [
      "HEllo Ramesh  Thank you for ordering the food\n"
     ]
    }
   ],
   "source": [
    "zomato('Ramesh')"
   ]
  },
  {
   "cell_type": "code",
   "execution_count": 44,
   "id": "1bff1f43",
   "metadata": {},
   "outputs": [
    {
     "name": "stdout",
     "output_type": "stream",
     "text": [
      "HEllo Customer  Thank you for ordering the food\n"
     ]
    }
   ],
   "source": [
    "zomato()"
   ]
  },
  {
   "cell_type": "code",
   "execution_count": null,
   "id": "517f77c0",
   "metadata": {},
   "outputs": [],
   "source": [
    "#combination of positional,keyword,and default"
   ]
  },
  {
   "cell_type": "code",
   "execution_count": 53,
   "id": "7e814052",
   "metadata": {},
   "outputs": [],
   "source": [
    "def val(a,b,c,d = 40):\n",
    "    print(a)\n",
    "    print(b)\n",
    "    print(c)\n",
    "    print(d)"
   ]
  },
  {
   "cell_type": "code",
   "execution_count": 54,
   "id": "c9e8ab38",
   "metadata": {},
   "outputs": [
    {
     "name": "stdout",
     "output_type": "stream",
     "text": [
      "10\n",
      "20\n",
      "30\n",
      "40\n"
     ]
    }
   ],
   "source": [
    "val(10,20,c = 30)"
   ]
  },
  {
   "cell_type": "markdown",
   "id": "e8702366",
   "metadata": {},
   "source": [
    "### Variable length arguments"
   ]
  },
  {
   "cell_type": "code",
   "execution_count": 65,
   "id": "e31fdb5e",
   "metadata": {},
   "outputs": [],
   "source": [
    "def summation(*n):\n",
    "    print(sum(n))"
   ]
  },
  {
   "cell_type": "code",
   "execution_count": 68,
   "id": "740e9905",
   "metadata": {},
   "outputs": [
    {
     "name": "stdout",
     "output_type": "stream",
     "text": [
      "7270\n"
     ]
    }
   ],
   "source": [
    "summation(1,2,3,4,5,6,7,8,9,10,1,2,322,4264,2626)"
   ]
  },
  {
   "cell_type": "markdown",
   "id": "31f18e4b",
   "metadata": {},
   "source": [
    "### Types of Variables in Functions"
   ]
  },
  {
   "cell_type": "code",
   "execution_count": 76,
   "id": "7bd57451",
   "metadata": {},
   "outputs": [],
   "source": [
    "def add(a,b):\n",
    "    c = 10  #local variable\n",
    "    print(a+b+c)\n"
   ]
  },
  {
   "cell_type": "code",
   "execution_count": 77,
   "id": "d24c0a1b",
   "metadata": {},
   "outputs": [
    {
     "name": "stdout",
     "output_type": "stream",
     "text": [
      "60\n"
     ]
    }
   ],
   "source": [
    "add(20,30)"
   ]
  },
  {
   "cell_type": "code",
   "execution_count": 78,
   "id": "28d58769",
   "metadata": {},
   "outputs": [
    {
     "ename": "NameError",
     "evalue": "name 'c' is not defined",
     "output_type": "error",
     "traceback": [
      "\u001b[1;31m---------------------------------------------------------------------------\u001b[0m",
      "\u001b[1;31mNameError\u001b[0m                                 Traceback (most recent call last)",
      "Cell \u001b[1;32mIn[78], line 1\u001b[0m\n\u001b[1;32m----> 1\u001b[0m c\n",
      "\u001b[1;31mNameError\u001b[0m: name 'c' is not defined"
     ]
    }
   ],
   "source": [
    "c"
   ]
  },
  {
   "cell_type": "code",
   "execution_count": 96,
   "id": "f7d35d9d",
   "metadata": {},
   "outputs": [],
   "source": [
    "\n",
    "def sub(l,m):\n",
    "    global n\n",
    "    n = 3\n",
    "    print(l-m-n)\n",
    "\n",
    "def add(l,m):\n",
    "    print(l+m+n)"
   ]
  },
  {
   "cell_type": "code",
   "execution_count": null,
   "id": "42d904f0",
   "metadata": {},
   "outputs": [],
   "source": []
  },
  {
   "cell_type": "code",
   "execution_count": 97,
   "id": "336cd8a7",
   "metadata": {},
   "outputs": [
    {
     "name": "stdout",
     "output_type": "stream",
     "text": [
      "-2\n"
     ]
    }
   ],
   "source": [
    "sub(2,1)"
   ]
  },
  {
   "cell_type": "code",
   "execution_count": 98,
   "id": "32ce6b50",
   "metadata": {},
   "outputs": [
    {
     "name": "stdout",
     "output_type": "stream",
     "text": [
      "6\n"
     ]
    }
   ],
   "source": [
    "add(1,2)"
   ]
  },
  {
   "cell_type": "code",
   "execution_count": null,
   "id": "7e818f66",
   "metadata": {},
   "outputs": [],
   "source": [
    "#global Variable\n",
    "\n",
    "* Outside the function\n",
    "* using global keyword,we can create global variable inside the function\n",
    "\n",
    "#local variable\n",
    "\n",
    "*Inside the function"
   ]
  },
  {
   "cell_type": "code",
   "execution_count": 99,
   "id": "91dcc8af",
   "metadata": {},
   "outputs": [],
   "source": [
    "def add():\n",
    "    a= 10\n",
    "    b = 20\n",
    "    print(a + b)"
   ]
  },
  {
   "cell_type": "code",
   "execution_count": 100,
   "id": "4ee39f17",
   "metadata": {},
   "outputs": [
    {
     "name": "stdout",
     "output_type": "stream",
     "text": [
      "30\n"
     ]
    }
   ],
   "source": [
    "add()"
   ]
  },
  {
   "cell_type": "code",
   "execution_count": 101,
   "id": "8fdb5d56",
   "metadata": {},
   "outputs": [
    {
     "name": "stdout",
     "output_type": "stream",
     "text": [
      "30\n"
     ]
    }
   ],
   "source": [
    "a= 10\n",
    "b = 20\n",
    "print(a + b)"
   ]
  },
  {
   "cell_type": "code",
   "execution_count": 104,
   "id": "967ede14",
   "metadata": {},
   "outputs": [],
   "source": [
    "def sub(a,b):\n",
    "    return a - b"
   ]
  },
  {
   "cell_type": "code",
   "execution_count": 108,
   "id": "efab064e",
   "metadata": {},
   "outputs": [
    {
     "name": "stdout",
     "output_type": "stream",
     "text": [
      "Enter the first number :: 10\n",
      "Enter the second number :: 4\n"
     ]
    },
    {
     "data": {
      "text/plain": [
       "6"
      ]
     },
     "execution_count": 108,
     "metadata": {},
     "output_type": "execute_result"
    }
   ],
   "source": [
    "\n",
    "\n",
    "sub(a = int(input(\"Enter the first number :: \")),b = int(input(\"Enter the second number :: \")))"
   ]
  },
  {
   "cell_type": "code",
   "execution_count": null,
   "id": "ee5a16e8",
   "metadata": {},
   "outputs": [],
   "source": [
    "def add(x,y):\n",
    "    return x+y\n",
    "\n",
    "1. ask user to enter two numbers==x,y\n",
    "2. ask user what is operation he wants to-  -+,-,*,/,**\n",
    "3.if enters + --add\n",
    "          add(x,y)    \n",
    "    \n",
    "      - -- sub\n",
    "     * --> mul\n",
    "    / --> Div\n",
    "    ** - power"
   ]
  },
  {
   "cell_type": "markdown",
   "id": "cff2e176",
   "metadata": {},
   "source": [
    "### Recursive functions"
   ]
  },
  {
   "cell_type": "markdown",
   "id": "9abd767d",
   "metadata": {},
   "source": [
    "#### Factorial "
   ]
  },
  {
   "cell_type": "code",
   "execution_count": 3,
   "id": "b1b75756",
   "metadata": {},
   "outputs": [],
   "source": [
    "def fact(n):\n",
    "    if n == 0 or n ==1:\n",
    "        return  1\n",
    "    else:\n",
    "        f = n * fact(n-1)\n",
    "    return f"
   ]
  },
  {
   "cell_type": "code",
   "execution_count": 7,
   "id": "9a1ed7a2",
   "metadata": {},
   "outputs": [
    {
     "name": "stdout",
     "output_type": "stream",
     "text": [
      "Enter the number to find factorial :: 6\n"
     ]
    },
    {
     "data": {
      "text/plain": [
       "720"
      ]
     },
     "execution_count": 7,
     "metadata": {},
     "output_type": "execute_result"
    }
   ],
   "source": [
    "n = int(input(\"Enter the number to find factorial :: \"))\n",
    "fact(n)"
   ]
  },
  {
   "cell_type": "markdown",
   "id": "21d18cf4",
   "metadata": {},
   "source": [
    "#### Fibonacci Sequence"
   ]
  },
  {
   "cell_type": "code",
   "execution_count": 13,
   "id": "0b12dd7d",
   "metadata": {},
   "outputs": [],
   "source": [
    "def fib(n):\n",
    "    if n == 0 or n== 1:\n",
    "        return  n\n",
    "    else:\n",
    "        f = fib(n-1) + fib(n-2)\n",
    "    return f"
   ]
  },
  {
   "cell_type": "code",
   "execution_count": 15,
   "id": "ce6e7f7e",
   "metadata": {},
   "outputs": [
    {
     "name": "stdout",
     "output_type": "stream",
     "text": [
      "Enter the number of sequences :: 10\n",
      "0\n",
      "1\n",
      "1\n",
      "2\n",
      "3\n",
      "5\n",
      "8\n",
      "13\n",
      "21\n",
      "34\n"
     ]
    }
   ],
   "source": [
    "n = int(input(\"Enter the number of sequences :: \"))\n",
    "\n",
    "for i in range(n):\n",
    "    print(fib(i))"
   ]
  },
  {
   "cell_type": "markdown",
   "id": "7feab9eb",
   "metadata": {},
   "source": [
    "### lambda function"
   ]
  },
  {
   "cell_type": "code",
   "execution_count": 16,
   "id": "daa2c337",
   "metadata": {},
   "outputs": [
    {
     "data": {
      "text/plain": [
       "5"
      ]
     },
     "execution_count": 16,
     "metadata": {},
     "output_type": "execute_result"
    }
   ],
   "source": [
    "def sub(x,y):\n",
    "    return x - y\n",
    "\n",
    "sub(20,15)"
   ]
  },
  {
   "cell_type": "markdown",
   "id": "f820f166",
   "metadata": {},
   "source": [
    "lambda args/params : expression"
   ]
  },
  {
   "cell_type": "code",
   "execution_count": 17,
   "id": "80bc4fe9",
   "metadata": {},
   "outputs": [],
   "source": [
    "add = lambda a,b: a-b   #it returns the value"
   ]
  },
  {
   "cell_type": "code",
   "execution_count": 18,
   "id": "872f5013",
   "metadata": {},
   "outputs": [
    {
     "data": {
      "text/plain": [
       "5"
      ]
     },
     "execution_count": 18,
     "metadata": {},
     "output_type": "execute_result"
    }
   ],
   "source": [
    "add(10,5)"
   ]
  },
  {
   "cell_type": "code",
   "execution_count": 19,
   "id": "2d596c16",
   "metadata": {},
   "outputs": [],
   "source": [
    "mul  =    lambda x,y : x * y"
   ]
  },
  {
   "cell_type": "code",
   "execution_count": 20,
   "id": "1e9bdbca",
   "metadata": {},
   "outputs": [
    {
     "data": {
      "text/plain": [
       "14"
      ]
     },
     "execution_count": 20,
     "metadata": {},
     "output_type": "execute_result"
    }
   ],
   "source": [
    "mul(2,7)"
   ]
  },
  {
   "cell_type": "markdown",
   "id": "ca3e8f9e",
   "metadata": {},
   "source": [
    "Write the python code for square root of given number using lambda function"
   ]
  },
  {
   "cell_type": "code",
   "execution_count": 22,
   "id": "29cdd41f",
   "metadata": {},
   "outputs": [],
   "source": [
    "def root(n):\n",
    "    return n ** 0.5"
   ]
  },
  {
   "cell_type": "code",
   "execution_count": 24,
   "id": "3dd88004",
   "metadata": {},
   "outputs": [
    {
     "name": "stdout",
     "output_type": "stream",
     "text": [
      "Enter the number :: 6\n"
     ]
    },
    {
     "data": {
      "text/plain": [
       "2.449489742783178"
      ]
     },
     "execution_count": 24,
     "metadata": {},
     "output_type": "execute_result"
    }
   ],
   "source": [
    "n = int(input(\"Enter the number :: \"))\n",
    "root(n)"
   ]
  },
  {
   "cell_type": "code",
   "execution_count": 25,
   "id": "65aa3322",
   "metadata": {},
   "outputs": [],
   "source": [
    " r =  lambda x :  x** 0.5"
   ]
  },
  {
   "cell_type": "code",
   "execution_count": 26,
   "id": "ab227745",
   "metadata": {},
   "outputs": [
    {
     "name": "stdout",
     "output_type": "stream",
     "text": [
      "Enter the number :: 100\n"
     ]
    },
    {
     "data": {
      "text/plain": [
       "10.0"
      ]
     },
     "execution_count": 26,
     "metadata": {},
     "output_type": "execute_result"
    }
   ],
   "source": [
    "i = int(input(\"Enter the number :: \"))\n",
    "r(i)"
   ]
  },
  {
   "cell_type": "markdown",
   "id": "5f511924",
   "metadata": {},
   "source": [
    "### Miscellenous functions"
   ]
  },
  {
   "cell_type": "markdown",
   "id": "5ee22f48",
   "metadata": {},
   "source": [
    "filter()"
   ]
  },
  {
   "cell_type": "code",
   "execution_count": 27,
   "id": "b166d965",
   "metadata": {},
   "outputs": [],
   "source": [
    "list1 = [1,2,3,4,5,6,7,8,9,10]\n",
    "\n",
    "def even(n):\n",
    "    if n %2 == 0:\n",
    "        return n"
   ]
  },
  {
   "cell_type": "code",
   "execution_count": 29,
   "id": "ad873f04",
   "metadata": {},
   "outputs": [
    {
     "data": {
      "text/plain": [
       "[2, 4, 6, 8, 10]"
      ]
     },
     "execution_count": 29,
     "metadata": {},
     "output_type": "execute_result"
    }
   ],
   "source": [
    "list(filter(even,list1))"
   ]
  },
  {
   "cell_type": "markdown",
   "id": "8a8cbe14",
   "metadata": {},
   "source": [
    "[\"rk@gmail.com\",\"Ram@gjd\",\"rg@gmail.com\",\"hello@gmail.com\"]. by using filter function find the valid maild IDS"
   ]
  },
  {
   "cell_type": "code",
   "execution_count": 31,
   "id": "19b36789",
   "metadata": {},
   "outputs": [],
   "source": [
    "iterable = [\"rk@gmail.com\",\"Ram@gjd\",\"rg@gmail.com\",\"hello@gmail.com\"]\n",
    "\n",
    "def function(n):\n",
    "    if n.endswith('@gmail.com'):\n",
    "        return n"
   ]
  },
  {
   "cell_type": "code",
   "execution_count": 33,
   "id": "0f65fb04",
   "metadata": {},
   "outputs": [
    {
     "data": {
      "text/plain": [
       "('rk@gmail.com', 'rg@gmail.com', 'hello@gmail.com')"
      ]
     },
     "execution_count": 33,
     "metadata": {},
     "output_type": "execute_result"
    }
   ],
   "source": [
    "tuple(filter(function,iterable))"
   ]
  },
  {
   "cell_type": "markdown",
   "id": "6e4f9ce7",
   "metadata": {},
   "source": [
    "#### map()"
   ]
  },
  {
   "cell_type": "code",
   "execution_count": 34,
   "id": "e5d06f0f",
   "metadata": {},
   "outputs": [],
   "source": [
    "salary = [60000,70000,30000,53000,43000,24000,32000]"
   ]
  },
  {
   "cell_type": "code",
   "execution_count": 35,
   "id": "e539a3e3",
   "metadata": {},
   "outputs": [],
   "source": [
    "def bonus(n):\n",
    "    return n +  5000"
   ]
  },
  {
   "cell_type": "code",
   "execution_count": 37,
   "id": "f7dc2489",
   "metadata": {},
   "outputs": [
    {
     "data": {
      "text/plain": [
       "[65000, 75000, 35000, 58000, 48000, 29000, 37000]"
      ]
     },
     "execution_count": 37,
     "metadata": {},
     "output_type": "execute_result"
    }
   ],
   "source": [
    "list(map(bonus,salary))"
   ]
  },
  {
   "cell_type": "code",
   "execution_count": 41,
   "id": "971e6269",
   "metadata": {},
   "outputs": [],
   "source": [
    "names = ['imagin','creat','calcul','notat','preapar']"
   ]
  },
  {
   "cell_type": "code",
   "execution_count": 42,
   "id": "eb6cb029",
   "metadata": {},
   "outputs": [],
   "source": [
    "c = lambda n: n+ 'ation'"
   ]
  },
  {
   "cell_type": "code",
   "execution_count": 43,
   "id": "7d53259b",
   "metadata": {},
   "outputs": [
    {
     "data": {
      "text/plain": [
       "['imagination', 'creatation', 'calculation', 'notatation', 'preaparation']"
      ]
     },
     "execution_count": 43,
     "metadata": {},
     "output_type": "execute_result"
    }
   ],
   "source": [
    "list(map(c,names))"
   ]
  },
  {
   "cell_type": "markdown",
   "id": "865ed65d",
   "metadata": {},
   "source": [
    "#### reduce()"
   ]
  },
  {
   "cell_type": "code",
   "execution_count": 44,
   "id": "c5aebd47",
   "metadata": {},
   "outputs": [],
   "source": [
    "list1 = [1,2,3,4,5,6,7,8,9]\n",
    "\n",
    "def add(x,y):\n",
    "    return x + y"
   ]
  },
  {
   "cell_type": "code",
   "execution_count": 46,
   "id": "9498bbb6",
   "metadata": {},
   "outputs": [],
   "source": [
    "from functools import reduce"
   ]
  },
  {
   "cell_type": "code",
   "execution_count": 47,
   "id": "8c4ceb9e",
   "metadata": {},
   "outputs": [
    {
     "data": {
      "text/plain": [
       "45"
      ]
     },
     "execution_count": 47,
     "metadata": {},
     "output_type": "execute_result"
    }
   ],
   "source": [
    "reduce(add,list1)"
   ]
  },
  {
   "cell_type": "code",
   "execution_count": 48,
   "id": "888b3edb",
   "metadata": {},
   "outputs": [],
   "source": [
    "def fact(x,y):\n",
    "    return x * y"
   ]
  },
  {
   "cell_type": "code",
   "execution_count": 49,
   "id": "8867630a",
   "metadata": {},
   "outputs": [
    {
     "name": "stdout",
     "output_type": "stream",
     "text": [
      "enter the number to finf the factorial :: 5\n"
     ]
    }
   ],
   "source": [
    "n = int(input(\"enter the number to finf the factorial :: \"))\n",
    "iterable = list(range(1,n+1))"
   ]
  },
  {
   "cell_type": "code",
   "execution_count": 50,
   "id": "ef1e28b4",
   "metadata": {},
   "outputs": [
    {
     "data": {
      "text/plain": [
       "120"
      ]
     },
     "execution_count": 50,
     "metadata": {},
     "output_type": "execute_result"
    }
   ],
   "source": [
    "reduce(fact,iterable)"
   ]
  },
  {
   "cell_type": "markdown",
   "id": "89095201",
   "metadata": {},
   "source": [
    "### zip()"
   ]
  },
  {
   "cell_type": "code",
   "execution_count": 57,
   "id": "db835b1c",
   "metadata": {},
   "outputs": [],
   "source": [
    "phones = ['Apple','Samsung','Vivo','Oppo']\n",
    "origin = [\"USA\",\"South Korea\",\"China\",'China']\n",
    "price = [60000,20000,15000]"
   ]
  },
  {
   "cell_type": "code",
   "execution_count": 58,
   "id": "461b8403",
   "metadata": {},
   "outputs": [
    {
     "name": "stdout",
     "output_type": "stream",
     "text": [
      "('Apple', 'USA', 60000)\n",
      "('Samsung', 'South Korea', 20000)\n",
      "('Vivo', 'China', 15000)\n"
     ]
    }
   ],
   "source": [
    "for i in zip(phones,origin,price):\n",
    "    print(i)"
   ]
  },
  {
   "cell_type": "markdown",
   "id": "90b5c8ba",
   "metadata": {},
   "source": [
    "#### enumerate()"
   ]
  },
  {
   "cell_type": "code",
   "execution_count": 59,
   "id": "7f2766b8",
   "metadata": {},
   "outputs": [],
   "source": [
    "phones = ['Apple','Samsung','Vivo','Oppo']"
   ]
  },
  {
   "cell_type": "code",
   "execution_count": 63,
   "id": "3e69cc2a",
   "metadata": {},
   "outputs": [
    {
     "name": "stdout",
     "output_type": "stream",
     "text": [
      "(100, 'Apple')\n",
      "(101, 'Samsung')\n",
      "(102, 'Vivo')\n",
      "(103, 'Oppo')\n"
     ]
    }
   ],
   "source": [
    "for i in enumerate(phones,100):\n",
    "    print(i)"
   ]
  },
  {
   "cell_type": "code",
   "execution_count": 66,
   "id": "7101472a",
   "metadata": {},
   "outputs": [],
   "source": [
    "name = [1,2,3,4,1,2,3,4,5]"
   ]
  },
  {
   "cell_type": "code",
   "execution_count": 67,
   "id": "cc5c17ca",
   "metadata": {},
   "outputs": [
    {
     "data": {
      "text/plain": [
       "[1, 2, 3, 4, 1, 2, 3, 4, 5]"
      ]
     },
     "execution_count": 67,
     "metadata": {},
     "output_type": "execute_result"
    }
   ],
   "source": [
    "name"
   ]
  },
  {
   "cell_type": "code",
   "execution_count": null,
   "id": "e5b5f986",
   "metadata": {},
   "outputs": [],
   "source": [
    "frozenset -- immutable set"
   ]
  },
  {
   "cell_type": "code",
   "execution_count": 68,
   "id": "f88da110",
   "metadata": {},
   "outputs": [],
   "source": [
    "a = frozenset(name)"
   ]
  },
  {
   "cell_type": "code",
   "execution_count": 69,
   "id": "6eb777fa",
   "metadata": {},
   "outputs": [
    {
     "data": {
      "text/plain": [
       "frozenset({1, 2, 3, 4, 5})"
      ]
     },
     "execution_count": 69,
     "metadata": {},
     "output_type": "execute_result"
    }
   ],
   "source": [
    "a."
   ]
  },
  {
   "cell_type": "code",
   "execution_count": null,
   "id": "0dedce53",
   "metadata": {},
   "outputs": [],
   "source": []
  }
 ],
 "metadata": {
  "kernelspec": {
   "display_name": "Python 3 (ipykernel)",
   "language": "python",
   "name": "python3"
  },
  "language_info": {
   "codemirror_mode": {
    "name": "ipython",
    "version": 3
   },
   "file_extension": ".py",
   "mimetype": "text/x-python",
   "name": "python",
   "nbconvert_exporter": "python",
   "pygments_lexer": "ipython3",
   "version": "3.11.4"
  }
 },
 "nbformat": 4,
 "nbformat_minor": 5
}
